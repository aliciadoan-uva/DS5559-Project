{
 "cells": [
  {
   "cell_type": "markdown",
   "metadata": {},
   "source": [
    "# Final Project: Admission Prediction from NHAMCS\n",
    "## Data preprocessing\n",
    "### DS5559: Big Data Analysis\n",
    "### Thomas Hartka, Alicia Doan, Michael Langmayr\n",
    "Created: 6/27/2020 \n",
    "  \n",
    "In this notebook preprocess the predictors and create our outcome variable."
   ]
  },
  {
   "cell_type": "markdown",
   "metadata": {},
   "source": [
    "## Configure"
   ]
  },
  {
   "cell_type": "code",
   "execution_count": 1,
   "metadata": {},
   "outputs": [],
   "source": [
    "# set data directory\n",
    "data_dir = \"../data\""
   ]
  },
  {
   "cell_type": "code",
   "execution_count": 2,
   "metadata": {},
   "outputs": [],
   "source": [
    "# import python libraries\n",
    "import os\n",
    "import pandas as pd\n",
    "import numpy as np\n",
    "from functools import reduce"
   ]
  },
  {
   "cell_type": "code",
   "execution_count": 3,
   "metadata": {},
   "outputs": [],
   "source": [
    "# set up pyspark\n",
    "from pyspark.sql import *\n",
    "from pyspark.sql import SparkSession\n",
    "from pyspark.sql.functions import *\n",
    "from pyspark.sql.types import IntegerType\n",
    "\n",
    "spark = SparkSession.builder.getOrCreate()"
   ]
  },
  {
   "cell_type": "markdown",
   "metadata": {},
   "source": [
    "## Read in data"
   ]
  },
  {
   "cell_type": "code",
   "execution_count": 49,
   "metadata": {},
   "outputs": [],
   "source": [
    "NHAMCS = spark.read.parquet(data_dir + \"/NHAMCS.2007-2017\")"
   ]
  },
  {
   "cell_type": "markdown",
   "metadata": {},
   "source": [
    "## Create outcome variable"
   ]
  },
  {
   "cell_type": "code",
   "execution_count": 50,
   "metadata": {},
   "outputs": [],
   "source": [
    "# create outcome variable\n",
    "NHAMCS = NHAMCS.withColumn(\"ADM_OUTCOME\", when((col(\"ADMITHOS\")==\"Yes\") | \\\n",
    "                                                (col(\"TRANPSYC\")==\"Yes\") | \\\n",
    "                                                (col(\"TRANOTH\")==\"Yes\") | \\\n",
    "                                                (col(\"OBSHOS\")==\"Yes\"), 1).otherwise(0))"
   ]
  },
  {
   "cell_type": "markdown",
   "metadata": {},
   "source": [
    "## Fix variables"
   ]
  },
  {
   "cell_type": "markdown",
   "metadata": {},
   "source": [
    "**Age**  \n",
    "Make age 0 for those less than 1 and 100 for those greater than 100"
   ]
  },
  {
   "cell_type": "code",
   "execution_count": 51,
   "metadata": {},
   "outputs": [],
   "source": [
    "# fix group classifiers\n",
    "NHAMCS = NHAMCS.withColumn('AGE', regexp_replace('AGE', 'Under one year','0')) \\\n",
    "    .withColumn('AGE', regexp_replace('AGE', '93 years and over','93')) \\\n",
    "    .withColumn('AGE', regexp_replace('AGE', '100 years and over','100'))\n",
    "\n",
    "# convert to integers\n",
    "NHAMCS = NHAMCS.withColumn('AGEYEAR', NHAMCS['AGE'].cast(IntegerType()))"
   ]
  },
  {
   "cell_type": "markdown",
   "metadata": {},
   "source": [
    "**Sex**  \n",
    "Make new variable SEXMALE. 1=male, 0=female"
   ]
  },
  {
   "cell_type": "code",
   "execution_count": 52,
   "metadata": {},
   "outputs": [],
   "source": [
    "NHAMCS = NHAMCS.withColumn('SEXMALE', when(col('SEX')==\"Male\",1).otherwise(0))"
   ]
  },
  {
   "cell_type": "markdown",
   "metadata": {},
   "source": [
    "**Arrival time**  \n",
    "Make new variable ARRTIMEMIN.  Minutes past midnight of arrival."
   ]
  },
  {
   "cell_type": "code",
   "execution_count": 53,
   "metadata": {},
   "outputs": [],
   "source": [
    "NHAMCS = NHAMCS.withColumn('ARRTIME', NHAMCS['ARRTIME'].cast(IntegerType()))"
   ]
  },
  {
   "cell_type": "code",
   "execution_count": 54,
   "metadata": {},
   "outputs": [],
   "source": [
    "def convert_time(time):\n",
    "    return  int(time/100)*60  + (time % 100)\n",
    "\n",
    "udf_cTime = udf(convert_time, IntegerType())"
   ]
  },
  {
   "cell_type": "code",
   "execution_count": 55,
   "metadata": {},
   "outputs": [],
   "source": [
    "NHAMCS = NHAMCS.withColumn('ARRTIMEMIN', udf_cTime(\"ARRTIME\"))"
   ]
  },
  {
   "cell_type": "markdown",
   "metadata": {},
   "source": [
    "**Strings to integer**  \n",
    "These variables should be integers."
   ]
  },
  {
   "cell_type": "code",
   "execution_count": 56,
   "metadata": {},
   "outputs": [],
   "source": [
    "NHAMCS = NHAMCS.withColumn('YEAR', NHAMCS['YEAR'].cast(IntegerType())) \\\n",
    "    .withColumn('PULSE', NHAMCS['PULSE'].cast(IntegerType()))  \\\n",
    "    .withColumn('RESPR', NHAMCS['RESPR'].cast(IntegerType())) \\\n",
    "    .withColumn('BPSYS', NHAMCS['BPSYS'].cast(IntegerType())) \\\n",
    "    .withColumn('BPDIAS', NHAMCS['BPDIAS'].cast(IntegerType())) \\\n",
    "    .withColumn('POPCT', NHAMCS['POPCT'].cast(IntegerType())) \\\n",
    "    .withColumn('PAINSCALE', NHAMCS['PAINSCALE'].cast(IntegerType())) \\\n",
    "    .withColumn('TOTCHRON', NHAMCS['TOTCHRON'].cast(IntegerType())) "
   ]
  },
  {
   "cell_type": "markdown",
   "metadata": {},
   "source": [
    "**Strings to floats**  \n",
    "These variables should be floats."
   ]
  },
  {
   "cell_type": "code",
   "execution_count": 57,
   "metadata": {},
   "outputs": [],
   "source": [
    "NHAMCS = NHAMCS.withColumn('TEMPF', NHAMCS['TEMPF'].cast(IntegerType()))"
   ]
  },
  {
   "cell_type": "markdown",
   "metadata": {},
   "source": [
    "**Comorbidities to 0/1**  \n",
    "Convert comorbities to 0 or 1. 0=Not present, 1=Present"
   ]
  },
  {
   "cell_type": "code",
   "execution_count": 58,
   "metadata": {},
   "outputs": [],
   "source": [
    "def convert_comb(dis):\n",
    "    if dis == \"Yes\":\n",
    "        return 1\n",
    "    elif dis == \"No\":\n",
    "        return 0\n",
    "    else:\n",
    "        return None\n",
    "    \n",
    "udf_cDis = udf(convert_comb, IntegerType())"
   ]
  },
  {
   "cell_type": "code",
   "execution_count": 59,
   "metadata": {},
   "outputs": [],
   "source": [
    "NHAMCS = NHAMCS.withColumn('ALZHD', udf_cDis(\"ALZHD\")) \\\n",
    "    .withColumn('ASTHMA', udf_cDis(\"ASTHMA\")) \\\n",
    "    .withColumn('CAD', udf_cDis(\"CAD\")) \\\n",
    "    .withColumn('CANCER', udf_cDis(\"CANCER\")) \\\n",
    "    .withColumn('CEBVD', udf_cDis(\"CEBVD\")) \\\n",
    "    .withColumn('CHF', udf_cDis(\"CHF\")) \\\n",
    "    .withColumn('COPD', udf_cDis(\"COPD\")) \\\n",
    "    .withColumn('CKD', udf_cDis(\"CKD\")) \\\n",
    "    .withColumn('DEPRN', udf_cDis(\"DEPRN\")) \\\n",
    "    .withColumn('DIABTYP0', udf_cDis(\"DIABTYP0\")) \\\n",
    "    .withColumn('DIABTYP1', udf_cDis(\"DIABTYP1\")) \\\n",
    "    .withColumn('DIABTYP2', udf_cDis(\"DIABTYP2\")) \\\n",
    "    .withColumn('EDHIV', udf_cDis(\"EDHIV\")) \\\n",
    "    .withColumn('ESRD', udf_cDis(\"ESRD\")) \\\n",
    "    .withColumn('ETOHAB', udf_cDis(\"ETOHAB\")) \\\n",
    "    .withColumn('HPE', udf_cDis(\"HPE\")) \\\n",
    "    .withColumn('HTN', udf_cDis(\"HTN\")) \\\n",
    "    .withColumn('HYPLIPID', udf_cDis(\"HYPLIPID\")) \\\n",
    "    .withColumn('OBESITY', udf_cDis(\"OBESITY\")) \\\n",
    "    .withColumn('OSA', udf_cDis(\"OSA\")) \\\n",
    "    .withColumn('OSTPRSIS', udf_cDis(\"OSTPRSIS\")) \\\n",
    "    .withColumn('SUBSTAB', udf_cDis(\"SUBSTAB\")) \\\n",
    "    .withColumn('NOCHRON', udf_cDis(\"NOCHRON\")) \\\n",
    "    .withColumn('INJURY', udf_cDis(\"INJURY\")) \\\n",
    "    .withColumn('INJURY72', udf_cDis(\"INJURY72\"))   "
   ]
  },
  {
   "cell_type": "markdown",
   "metadata": {},
   "source": [
    "## Select columns of interest"
   ]
  },
  {
   "cell_type": "code",
   "execution_count": 60,
   "metadata": {},
   "outputs": [],
   "source": [
    "NHAMCS = NHAMCS.select(['AGEYEAR','AGER','SEXMALE','RESIDNCE','ARRTIMEMIN','YEAR','PULSE','TEMPF', \\\n",
    "                            'RESPR','BPSYS','BPDIAS','POPCT','PAINSCALE','ALZHD','ASTHMA','CAD','CANCER', \\\n",
    "                            'CEBVD','CHF','CKD','COPD','DEPRN','DIABTYP0','DIABTYP1','DIABTYP2','EDHIV', \\\n",
    "                            'ESRD','ETOHAB','HPE','HTN','HYPLIPID','OBESITY','OSA','OSTPRSIS','SUBSTAB', \\\n",
    "                            'NOCHRON','TOTCHRON','RFV1','RFV2','RFV3','RFV4','RFV5','INJURY','INJURY72', \\\n",
    "                            'ADM_OUTCOME'])"
   ]
  },
  {
   "cell_type": "code",
   "execution_count": 61,
   "metadata": {},
   "outputs": [
    {
     "data": {
      "text/plain": [
       "[Row(AGEYEAR=36, AGER='25-44 years', SEXMALE=0, RESIDNCE='Private residence', ARRTIMEMIN=1285, YEAR=2009, PULSE=84, TEMPF=97, RESPR=18, BPSYS=132, BPDIAS=93, POPCT=99, PAINSCALE=8, ALZHD=None, ASTHMA=None, CAD=None, CANCER=None, CEBVD=0, CHF=0, CKD=None, COPD=None, DEPRN=None, DIABTYP0=None, DIABTYP1=None, DIABTYP2=None, EDHIV=0, ESRD=None, ETOHAB=None, HPE=None, HTN=None, HYPLIPID=None, OBESITY=None, OSA=None, OSTPRSIS=None, SUBSTAB=None, NOCHRON=1, TOTCHRON=None, RFV1='Side pain, flank pain', RFV2='Blank', RFV3='Blank', RFV4=None, RFV5=None, INJURY=0, INJURY72=None, ADM_OUTCOME=1),\n",
       " Row(AGEYEAR=40, AGER='25-44 years', SEXMALE=0, RESIDNCE='Private residence', ARRTIMEMIN=1144, YEAR=2009, PULSE=90, TEMPF=99, RESPR=16, BPSYS=129, BPDIAS=75, POPCT=99, PAINSCALE=6, ALZHD=None, ASTHMA=None, CAD=None, CANCER=None, CEBVD=0, CHF=0, CKD=None, COPD=None, DEPRN=None, DIABTYP0=None, DIABTYP1=None, DIABTYP2=None, EDHIV=0, ESRD=None, ETOHAB=None, HPE=None, HTN=None, HYPLIPID=None, OBESITY=None, OSA=None, OSTPRSIS=None, SUBSTAB=None, NOCHRON=1, TOTCHRON=None, RFV1='Neck pain, ache, soreness, discomfort', RFV2='Low back pain, ache, soreness, discom...', RFV3='Blank', RFV4=None, RFV5=None, INJURY=1, INJURY72=None, ADM_OUTCOME=0)]"
      ]
     },
     "execution_count": 61,
     "metadata": {},
     "output_type": "execute_result"
    }
   ],
   "source": [
    "NHAMCS.take(2)"
   ]
  },
  {
   "cell_type": "markdown",
   "metadata": {},
   "source": [
    "## Separate cases with year >=2014 and <2014"
   ]
  },
  {
   "cell_type": "code",
   "execution_count": 62,
   "metadata": {},
   "outputs": [],
   "source": [
    "NHAMCS_2014_2017 = NHAMCS.filter(col('YEAR')>=2014)\n",
    "NHAMCS_2007_2013 = NHAMCS.filter(col('YEAR')<2014)"
   ]
  },
  {
   "cell_type": "markdown",
   "metadata": {},
   "source": [
    "## Write out data"
   ]
  },
  {
   "cell_type": "code",
   "execution_count": 63,
   "metadata": {},
   "outputs": [],
   "source": [
    "# write out data\n",
    "NHAMCS.write.mode('overwrite').parquet(data_dir + \"/NHAMCS_processed.2007-2017\")\n",
    "NHAMCS_2014_2017.write.mode('overwrite').parquet(data_dir + \"/NHAMCS_processed.2014-2017\")\n",
    "NHAMCS_2007_2013.write.mode('overwrite').parquet(data_dir + \"/NHAMCS_processed.2007-2013\")"
   ]
  },
  {
   "cell_type": "code",
   "execution_count": null,
   "metadata": {},
   "outputs": [],
   "source": []
  }
 ],
 "metadata": {
  "kernelspec": {
   "display_name": "DS 5559",
   "language": "python",
   "name": "ds5559"
  },
  "language_info": {
   "codemirror_mode": {
    "name": "ipython",
    "version": 3
   },
   "file_extension": ".py",
   "mimetype": "text/x-python",
   "name": "python",
   "nbconvert_exporter": "python",
   "pygments_lexer": "ipython3",
   "version": "3.7.6"
  }
 },
 "nbformat": 4,
 "nbformat_minor": 4
}
