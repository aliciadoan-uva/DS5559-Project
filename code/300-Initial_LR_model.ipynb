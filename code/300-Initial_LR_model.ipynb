{
 "cells": [
  {
   "cell_type": "markdown",
   "metadata": {},
   "source": [
    "# Final Project: Admission Prediction from NHAMCS\n",
    "## Initial LR model\n",
    "### DS5559: Big Data Analysis\n",
    "### Thomas Hartka, Alicia Doan, Michael Langmayr\n",
    "Created: 6/28/2020 \n",
    "  \n",
    "In this notebook creates and analyzes logistic regression model for predicting hospital admission in the NHAMCS database.  For this iniital model, categorical variables will be represented with one-hot encoding and the reason for visit (RFV) variables will be ignored.  The RFV varaibles will be ignored because there are hundreds of different potential values and we have not yet developed a way to categorize them yet.  Binary variables were previously converted to 0/1.  "
   ]
  },
  {
   "cell_type": "markdown",
   "metadata": {},
   "source": [
    "## Configuration"
   ]
  },
  {
   "cell_type": "code",
   "execution_count": 1,
   "metadata": {},
   "outputs": [],
   "source": [
    "# preferences\n",
    "scale_data = True        # should data be scaled\n",
    "weight_outcome = True    # use weights to handle class imbalance\n",
    "reg_param = 0            # regularization of LR (0=not regularizatoin)\n",
    "elas_param = 0           # elastic net (0=Ridge,1=Lasso)\n",
    "reduced_vars = False     # where to use a reduced variable set"
   ]
  },
  {
   "cell_type": "code",
   "execution_count": 2,
   "metadata": {},
   "outputs": [],
   "source": [
    "# set data directory\n",
    "data_dir = \"../data\"\n",
    "results_dir = \"../results\""
   ]
  },
  {
   "cell_type": "markdown",
   "metadata": {},
   "source": [
    "## Import libraries and set up Spark"
   ]
  },
  {
   "cell_type": "code",
   "execution_count": 3,
   "metadata": {},
   "outputs": [],
   "source": [
    "# import python libraries\n",
    "import os\n",
    "import pandas as pd\n",
    "import numpy as np\n",
    "from functools import reduce"
   ]
  },
  {
   "cell_type": "code",
   "execution_count": 4,
   "metadata": {},
   "outputs": [],
   "source": [
    "# set up pyspark\n",
    "from pyspark.sql import *\n",
    "from pyspark.sql import SparkSession\n",
    "from pyspark.sql.functions import *\n",
    "from pyspark.sql.types import IntegerType"
   ]
  },
  {
   "cell_type": "code",
   "execution_count": 5,
   "metadata": {},
   "outputs": [],
   "source": [
    "from pyspark.ml import Pipeline  \n",
    "from pyspark.ml.feature import *  \n",
    "from pyspark.ml.classification import LogisticRegression\n",
    "from pyspark.ml.evaluation import BinaryClassificationEvaluator"
   ]
  },
  {
   "cell_type": "code",
   "execution_count": 6,
   "metadata": {},
   "outputs": [],
   "source": [
    "spark = SparkSession.builder.getOrCreate()"
   ]
  },
  {
   "cell_type": "markdown",
   "metadata": {},
   "source": [
    "## Read in data"
   ]
  },
  {
   "cell_type": "code",
   "execution_count": 7,
   "metadata": {},
   "outputs": [],
   "source": [
    "NHAMCS = spark.read.parquet(data_dir + \"/NHAMCS_processed.2007-2017\")"
   ]
  },
  {
   "cell_type": "markdown",
   "metadata": {},
   "source": [
    "## Transform data"
   ]
  },
  {
   "cell_type": "code",
   "execution_count": 8,
   "metadata": {},
   "outputs": [],
   "source": [
    "# perform string indexing to prepare for OHE for residence variable\n",
    "rsi = StringIndexer(inputCol=\"RESIDNCE\", outputCol=\"RESINDEX\")\n",
    "simodel = rsi.fit(NHAMCS)\n",
    "NHAMCS = simodel.transform(NHAMCS)"
   ]
  },
  {
   "cell_type": "code",
   "execution_count": 9,
   "metadata": {},
   "outputs": [],
   "source": [
    "# perform OHE on residence variable\n",
    "rohe = OneHotEncoder(inputCol='RESINDEX', outputCol='RESONE')\n",
    "NHAMCS = rohe.transform(NHAMCS)"
   ]
  },
  {
   "cell_type": "code",
   "execution_count": 10,
   "metadata": {},
   "outputs": [],
   "source": [
    "# assemble vector\n",
    "if reduced_vars:\n",
    "    va = VectorAssembler(inputCols=['AGEYEAR','PULSE','TEMPF','COPD'], \n",
    "                         outputCol=\"features\") \n",
    "else:    \n",
    "    va = VectorAssembler(inputCols=[\"AGEYEAR\",\"RESONE\",'SEXMALE','ARRTIMEMIN','YEAR','PULSE','TEMPF', \\\n",
    "                                'RESPR','BPSYS','BPDIAS','POPCT','PAINSCALE','ALZHD','ASTHMA','CAD','CANCER', \\\n",
    "                                'CEBVD','CHF','CKD','COPD','DEPRN','DIABTYP0','DIABTYP1','DIABTYP2','EDHIV', \\\n",
    "                                'ESRD','ETOHAB','HPE','HTN','HYPLIPID','OBESITY','OSA','OSTPRSIS','SUBSTAB', \\\n",
    "                                'NOCHRON','TOTCHRON','INJURY','INJURY72'], \n",
    "                         outputCol=\"features\")  \n",
    "    \n",
    "NHAMCS = va.setHandleInvalid(\"skip\").transform(NHAMCS)"
   ]
  },
  {
   "cell_type": "code",
   "execution_count": 11,
   "metadata": {},
   "outputs": [],
   "source": [
    "# scale features using MaxAbs\n",
    "scaler = MaxAbsScaler(inputCol=\"features\", outputCol=\"scaledFeatures\")\n",
    "scalerModel = scaler.fit(NHAMCS)\n",
    "NHAMCS = scalerModel.transform(NHAMCS)\n",
    "\n",
    "# determine feature column\n",
    "if scale_data:\n",
    "    features_col = \"features\"\n",
    "else:\n",
    "    features_col = \"scaledFeatures\""
   ]
  },
  {
   "cell_type": "markdown",
   "metadata": {},
   "source": [
    "## Train and test model"
   ]
  },
  {
   "cell_type": "code",
   "execution_count": 12,
   "metadata": {},
   "outputs": [],
   "source": [
    "# split into training and testing set\n",
    "training, testing = NHAMCS.randomSplit([0.8, 0.2], 42)"
   ]
  },
  {
   "cell_type": "code",
   "execution_count": 13,
   "metadata": {},
   "outputs": [],
   "source": [
    "# handle class imbalance\n",
    "\n",
    "# calculate balance ratio\n",
    "balRatio = training.select(\"ADM_OUTCOME\").where('ADM_OUTCOME == 0').count() / training.count()\n",
    "\n",
    "# add weights\n",
    "training = training.withColumn(\"classWeights\", when(training.ADM_OUTCOME == 1,balRatio).otherwise(1-balRatio))"
   ]
  },
  {
   "cell_type": "code",
   "execution_count": 14,
   "metadata": {},
   "outputs": [
    {
     "name": "stdout",
     "output_type": "stream",
     "text": [
      "Coefficients: [0.006959770135108006,-0.23376222712865802,0.3249245722128116,0.037676263227828556,0.22388186897546347,0.11175730200244996,0.06450360958845103,-0.06563847851127284,-5.6052702401406886e-05,0.00024461868131159524,0.0018773758707992221,-0.004419383705960031,0.007341971992478976,0.0017301654431197643,-0.001161088460256079,-0.00815454619899241,-0.002121602711287132,0.3840681176024984,0.015098226790087188,0.3324583964381161,0.34026970001041323,0.3359043662680101,0.38996814849133415,0.3777295837760766,0.29188987935721916,0.2738695189552391,0.12568245042105142,0.10098830381398406,0.2674776751632989,0.08025629166380828,0.41605451077349964,0.1820511442832238,0.33799798709698375,0.2926910719105972,0.24991722302869254,0.19786774755056852,0.28223288303841737,0.3188301052722539,0.18214335256793304,-0.353012813406735,0.1059442780428311,0.0,-0.0589793036351345]\n",
      "Intercept: -6.426063178358598e-07\n"
     ]
    }
   ],
   "source": [
    "# set up LR model\n",
    "if weight_outcome:\n",
    "    lr = LogisticRegression(featuresCol=features_col, labelCol=\"ADM_OUTCOME\", weightCol=\"classWeights\", \\\n",
    "                              maxIter=10, regParam=reg_param, elasticNetParam=elas_param)\n",
    "else:\n",
    "    lr = LogisticRegression(featuresCol=\"features\", labelCol=\"ADM_OUTCOME\", \\\n",
    "                               maxIter=10, regParam=reg_param, elasticNetParam=elas_param)\n",
    "\n",
    "# Fit the model\n",
    "admModel = lr.fit(training)\n",
    "\n",
    "# Print the coefficients and intercepts for logistic regression with multinomial family\n",
    "print(\"Coefficients: \" + str(admModel.coefficients))\n",
    "print(\"Intercept: \" + str(admModel.intercept))"
   ]
  },
  {
   "cell_type": "code",
   "execution_count": 15,
   "metadata": {},
   "outputs": [
    {
     "name": "stdout",
     "output_type": "stream",
     "text": [
      "+-----------+--------------------+----------+--------------------+\n",
      "|ADM_OUTCOME|       rawPrediction|prediction|         probability|\n",
      "+-----------+--------------------+----------+--------------------+\n",
      "|          1|[0.87307347316225...|       0.0|[0.70538482114152...|\n",
      "|          0|[0.85828354494867...|       0.0|[0.70230191298937...|\n",
      "|          0|[0.85746478597929...|       0.0|[0.70213070348003...|\n",
      "|          0|[-0.1022590826539...|       1.0|[0.47445748346260...|\n",
      "|          0|[0.80900795801750...|       0.0|[0.69189806588998...|\n",
      "|          0|[0.92426358055808...|       0.0|[0.71591004254549...|\n",
      "|          0|[1.01617639854912...|       0.0|[0.73422713941140...|\n",
      "|          0|[1.00509089951636...|       0.0|[0.73205833206064...|\n",
      "|          0|[0.96817841667667...|       0.0|[0.72475626874425...|\n",
      "|          0|[0.89816292881166...|       0.0|[0.71057183768119...|\n",
      "+-----------+--------------------+----------+--------------------+\n",
      "only showing top 10 rows\n",
      "\n"
     ]
    }
   ],
   "source": [
    "predict_train=admModel.transform(training)\n",
    "predict_test=admModel.transform(testing)\n",
    "predict_test.select(\"ADM_OUTCOME\",\"rawPrediction\",\"prediction\",\"probability\").show(10)"
   ]
  },
  {
   "cell_type": "markdown",
   "metadata": {},
   "source": [
    "## Evaluate model"
   ]
  },
  {
   "cell_type": "code",
   "execution_count": 16,
   "metadata": {},
   "outputs": [
    {
     "name": "stdout",
     "output_type": "stream",
     "text": [
      "Number of negatives:  1513\n",
      "Number of positives:  691\n",
      "\n",
      "The area under ROC for train set is 0.7341131404078137\n",
      "The area under ROC for test set is 0.7540790183387306\n"
     ]
    }
   ],
   "source": [
    "evaluator=BinaryClassificationEvaluator(rawPredictionCol=\"rawPrediction\", labelCol=\"ADM_OUTCOME\")\n",
    "\n",
    "print(\"Number of negatives: \", predict_test.where('prediction == 0').count())\n",
    "print(\"Number of positives: \", predict_test.where('prediction == 1').count())\n",
    "\n",
    "print(\"\\nThe area under ROC for train set is\", evaluator.evaluate(predict_train))\n",
    "print(\"The area under ROC for test set is\", evaluator.evaluate(predict_test))"
   ]
  }
 ],
 "metadata": {
  "kernelspec": {
   "display_name": "DS 5559",
   "language": "python",
   "name": "ds5559"
  },
  "language_info": {
   "codemirror_mode": {
    "name": "ipython",
    "version": 3
   },
   "file_extension": ".py",
   "mimetype": "text/x-python",
   "name": "python",
   "nbconvert_exporter": "python",
   "pygments_lexer": "ipython3",
   "version": "3.7.6"
  }
 },
 "nbformat": 4,
 "nbformat_minor": 4
}
