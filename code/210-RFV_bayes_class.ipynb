{
 "cells": [
  {
   "cell_type": "markdown",
   "metadata": {},
   "source": [
    "# Final Project: Admission Prediction from NHAMCS\n",
    "## Data preprocessing\n",
    "### DS5559: Big Data Analysis\n",
    "### Thomas Hartka, Alicia Doan, Michael Langmayr\n",
    "Created: 8/2/2020 \n",
    "  \n",
    "In this notebook creates a bayesian classifier for the primary reason for visit (RFV1).  The classifier is based on the likelihood of hospital admission.  It is calculated by:"
   ]
  },
  {
   "cell_type": "markdown",
   "metadata": {},
   "source": [
    "$$ P(Admit|RFV)= \\frac{\\sum{PT_{RFV}.Admit==True}}{\\sum{PT_{RFV}}}$$\n",
    "Where $PT_{RFV}$ is patients with a certain RFV and $PT_{RFV}.Admit==True$ is patients with that RFV who were admitted.  Only RFV with five or more occurances are considered.  \n",
    "  \n",
    "Note: These values are calculated using only data from 2007-2013 (not training or test data) in order to prevent a data leak."
   ]
  },
  {
   "cell_type": "markdown",
   "metadata": {},
   "source": [
    "## Configure"
   ]
  },
  {
   "cell_type": "code",
   "execution_count": 33,
   "metadata": {},
   "outputs": [],
   "source": [
    "# set data directory\n",
    "data_dir = \"../data\""
   ]
  },
  {
   "cell_type": "code",
   "execution_count": 34,
   "metadata": {},
   "outputs": [],
   "source": [
    "# import python libraries\n",
    "import os\n",
    "import pandas as pd\n",
    "import numpy as np\n",
    "from functools import reduce"
   ]
  },
  {
   "cell_type": "code",
   "execution_count": 11,
   "metadata": {},
   "outputs": [],
   "source": [
    "# set up pyspark\n",
    "from pyspark.sql import *\n",
    "from pyspark.sql import SparkSession\n",
    "from pyspark.sql.functions import *\n",
    "from pyspark.sql.types import IntegerType\n",
    "\n",
    "spark = SparkSession.builder.getOrCreate()"
   ]
  },
  {
   "cell_type": "markdown",
   "metadata": {},
   "source": [
    "## Read in data"
   ]
  },
  {
   "cell_type": "code",
   "execution_count": 36,
   "metadata": {},
   "outputs": [],
   "source": [
    "nhamcs = spark.read.parquet(data_dir + \"/NHAMCS_processed.2007-2013\")"
   ]
  },
  {
   "cell_type": "markdown",
   "metadata": {},
   "source": [
    "## Calculate baseline admit rate"
   ]
  },
  {
   "cell_type": "code",
   "execution_count": 37,
   "metadata": {},
   "outputs": [],
   "source": [
    "baseline_admit_rate = nhamcs.filter(nhamcs.ADM_OUTCOME==1).count() / nhamcs.count()"
   ]
  },
  {
   "cell_type": "markdown",
   "metadata": {},
   "source": [
    "## Count RFVs and admissions"
   ]
  },
  {
   "cell_type": "code",
   "execution_count": 38,
   "metadata": {},
   "outputs": [
    {
     "name": "stdout",
     "output_type": "stream",
     "text": [
      "+--------------------+----+\n",
      "|                RFV1|   n|\n",
      "+--------------------+----+\n",
      "|Adverse effect of...| 227|\n",
      "|  Sepsis, septicemia|  20|\n",
      "|          Nightmares|   9|\n",
      "|Difficulty in swa...| 242|\n",
      "|  Respiratory arrest|  11|\n",
      "|\"Entry of \"\"none\"...|  12|\n",
      "|        Hip symptoms|  18|\n",
      "|   Extraneous vision|  31|\n",
      "|Gastrointestinal ...|  27|\n",
      "| Vertigo - dizziness|3231|\n",
      "+--------------------+----+\n",
      "only showing top 10 rows\n",
      "\n"
     ]
    }
   ],
   "source": [
    "# count RFVs\n",
    "RFV_count = nhamcs.groupby(nhamcs.RFV1) \\\n",
    "                    .count() \\\n",
    "                    .withColumnRenamed(\"count\",\"n\") \n",
    "\n",
    "# fitler RFV with <5 occurances\n",
    "RFV_count = RFV_count.filter(RFV_count.n > 5)\n",
    "\n",
    "RFV_count.show(10)"
   ]
  },
  {
   "cell_type": "code",
   "execution_count": 39,
   "metadata": {},
   "outputs": [
    {
     "name": "stdout",
     "output_type": "stream",
     "text": [
      "+--------------------+-----+\n",
      "|                RFV1|admit|\n",
      "+--------------------+-----+\n",
      "|  Sepsis, septicemia|   18|\n",
      "|Adverse effect of...|   21|\n",
      "|          Nightmares|    1|\n",
      "|Difficulty in swa...|   38|\n",
      "|  Respiratory arrest|    5|\n",
      "|Weakness of foot ...|    1|\n",
      "|\"Entry of \"\"none\"...|    2|\n",
      "|        Hip symptoms|    7|\n",
      "|Gastrointestinal ...|    4|\n",
      "|EEG, electroencep...|    1|\n",
      "+--------------------+-----+\n",
      "only showing top 10 rows\n",
      "\n"
     ]
    }
   ],
   "source": [
    "# count admission by RFV\n",
    "RFV_admit = nhamcs.filter(nhamcs.ADM_OUTCOME==1) \\\n",
    "                    .groupby(nhamcs.RFV1) \\\n",
    "                    .count() \\\n",
    "                    .withColumnRenamed(\"count\",\"admit\")\n",
    "RFV_admit.show(10)"
   ]
  },
  {
   "cell_type": "code",
   "execution_count": 40,
   "metadata": {},
   "outputs": [
    {
     "name": "stdout",
     "output_type": "stream",
     "text": [
      "+--------------------+----+-----+\n",
      "|                RFV1|   n|admit|\n",
      "+--------------------+----+-----+\n",
      "|Adverse effect of...| 227|   21|\n",
      "|  Sepsis, septicemia|  20|   18|\n",
      "|          Nightmares|   9|    1|\n",
      "|Difficulty in swa...| 242|   38|\n",
      "|  Respiratory arrest|  11|    5|\n",
      "|\"Entry of \"\"none\"...|  12|    2|\n",
      "|        Hip symptoms|  18|    7|\n",
      "|   Extraneous vision|  31|    1|\n",
      "|Gastrointestinal ...|  27|    4|\n",
      "| Vertigo - dizziness|3231|  570|\n",
      "+--------------------+----+-----+\n",
      "only showing top 10 rows\n",
      "\n"
     ]
    }
   ],
   "source": [
    "# join tables\n",
    "RFV_comb = RFV_count.join(RFV_admit,['RFV1'] ,how='left').na.fill(0)\n",
    "RFV_comb.show(10)"
   ]
  },
  {
   "cell_type": "markdown",
   "metadata": {},
   "source": [
    "## Calculate admission rate for RFV"
   ]
  },
  {
   "cell_type": "code",
   "execution_count": 41,
   "metadata": {},
   "outputs": [
    {
     "name": "stdout",
     "output_type": "stream",
     "text": [
      "+--------------------+----+-----+-------------------+\n",
      "|                RFV1|   n|admit|    RFV1_admit_rate|\n",
      "+--------------------+----+-----+-------------------+\n",
      "|Adverse effect of...| 227|   21|0.09251101321585903|\n",
      "|  Sepsis, septicemia|  20|   18|                0.9|\n",
      "|          Nightmares|   9|    1| 0.1111111111111111|\n",
      "|Difficulty in swa...| 242|   38|0.15702479338842976|\n",
      "|  Respiratory arrest|  11|    5|0.45454545454545453|\n",
      "|\"Entry of \"\"none\"...|  12|    2|0.16666666666666666|\n",
      "|        Hip symptoms|  18|    7| 0.3888888888888889|\n",
      "|   Extraneous vision|  31|    1|0.03225806451612903|\n",
      "|Gastrointestinal ...|  27|    4|0.14814814814814814|\n",
      "| Vertigo - dizziness|3231|  570| 0.1764159702878366|\n",
      "+--------------------+----+-----+-------------------+\n",
      "only showing top 10 rows\n",
      "\n"
     ]
    }
   ],
   "source": [
    "RFV_comb = RFV_comb.withColumn('RFV1_admit_rate', RFV_comb.admit / RFV_comb.n)\n",
    "RFV_comb.show(10)"
   ]
  },
  {
   "cell_type": "markdown",
   "metadata": {},
   "source": [
    "## Add to NHAMCS 2014-2017"
   ]
  },
  {
   "cell_type": "code",
   "execution_count": 42,
   "metadata": {},
   "outputs": [],
   "source": [
    "nhamcs_2014 = spark.read.parquet(data_dir + \"/NHAMCS_processed.2014-2017\")"
   ]
  },
  {
   "cell_type": "code",
   "execution_count": 43,
   "metadata": {},
   "outputs": [
    {
     "name": "stdout",
     "output_type": "stream",
     "text": [
      "+--------------------+---------------+\n",
      "|                RFV1|           RFV2|\n",
      "+--------------------+---------------+\n",
      "|Foot and toe pain...|          Blank|\n",
      "|            Epilepsy|          Blank|\n",
      "|Injury, other and...|          Blank|\n",
      "|               Fever|Kidney dialysis|\n",
      "|   Pain, unspecified|          Blank|\n",
      "|               Cough|          Blank|\n",
      "|Carbuncle, furunc...|          Blank|\n",
      "|Stomach and abdom...|          Blank|\n",
      "| Foreign body in eye|          Blank|\n",
      "|   Pain, unspecified|          Blank|\n",
      "+--------------------+---------------+\n",
      "only showing top 10 rows\n",
      "\n"
     ]
    }
   ],
   "source": [
    "nhamcs_2014['RFV1','RFV2'].show(10)"
   ]
  },
  {
   "cell_type": "code",
   "execution_count": 44,
   "metadata": {},
   "outputs": [],
   "source": [
    "# add admit rate to data, fill in RFVs with unknown admit rate with baseline rate\n",
    "nhamcs_2014 = nhamcs_2014.join(RFV_comb,['RFV1'] ,how='left').na.fill(baseline_admit_rate)"
   ]
  },
  {
   "cell_type": "code",
   "execution_count": 45,
   "metadata": {},
   "outputs": [
    {
     "data": {
      "text/plain": [
       "[Row(RFV1='Laceration/cut of upper extremity', RFV1_admit_rate=0.028664495114006514),\n",
       " Row(RFV1='Cough', RFV1_admit_rate=0.059416365824308065),\n",
       " Row(RFV1='Fever', RFV1_admit_rate=0.09668785547005687),\n",
       " Row(RFV1='Motor vehicle accident, type of injur...', RFV1_admit_rate=0.07839506172839507),\n",
       " Row(RFV1='Upper abdominal pain, cramps, spasms', RFV1_admit_rate=0.17684594348222424),\n",
       " Row(RFV1='Abdominal pain, cramps, spasms, NOS', RFV1_admit_rate=0.18641403276518287),\n",
       " Row(RFV1='Constipation', RFV1_admit_rate=0.08409785932721713),\n",
       " Row(RFV1='Swelling of knee', RFV1_admit_rate=0.06622516556291391),\n",
       " Row(RFV1='Hand and finger pain, ache, soreness,...', RFV1_admit_rate=0.023283582089552238),\n",
       " Row(RFV1='Shortness of breath', RFV1_admit_rate=0.4183621131817405)]"
      ]
     },
     "execution_count": 45,
     "metadata": {},
     "output_type": "execute_result"
    }
   ],
   "source": [
    "# look at data\n",
    "nhamcs_2014['RFV1','RFV1_admit_rate'].rdd.takeSample(False, 10, seed=0)"
   ]
  },
  {
   "cell_type": "markdown",
   "metadata": {},
   "source": [
    "## Store data"
   ]
  },
  {
   "cell_type": "code",
   "execution_count": 47,
   "metadata": {},
   "outputs": [],
   "source": [
    "# overwrite exiting parquet data\n",
    "nhamcs_2014.write.mode('overwrite').parquet(data_dir + \"/NHAMCS_processed_bc.2014-2017\")"
   ]
  },
  {
   "cell_type": "code",
   "execution_count": null,
   "metadata": {},
   "outputs": [],
   "source": []
  }
 ],
 "metadata": {
  "kernelspec": {
   "display_name": "DS 5559",
   "language": "python",
   "name": "ds5559"
  },
  "language_info": {
   "codemirror_mode": {
    "name": "ipython",
    "version": 3
   },
   "file_extension": ".py",
   "mimetype": "text/x-python",
   "name": "python",
   "nbconvert_exporter": "python",
   "pygments_lexer": "ipython3",
   "version": "3.7.6"
  }
 },
 "nbformat": 4,
 "nbformat_minor": 4
}
