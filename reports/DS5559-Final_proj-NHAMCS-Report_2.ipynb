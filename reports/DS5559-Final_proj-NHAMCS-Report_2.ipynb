{
 "cells": [
  {
   "cell_type": "markdown",
   "metadata": {},
   "source": [
    "# Final Project: Admission Prediction from NHAMCS\n",
    "## Progress report: Inital model evaluation\n",
    "### DS5559: Big Data Analysis\n",
    "### Thomas Hartka(trh6u), Alicia Doan(ad2ew), Michael Langmayr(ml8vp)\n",
    "Created: 6/28/20  \n",
    "  \n",
    "In this report we demonstrate a logistic regression model.  We use patient characteristics as input and create a model to prediction hospital admission.  We transform our variables and create a vector of features.  We then loop through values of reg for standard, ridge, and lasso methods.  All the models use weights for the outcomes since there is class imbalance.  The best hyperparameters were selected based on AUC.\n",
    "  \n",
    "The following is a summary of the best LR model:\n",
    "\n",
    "* Type of model: \n",
    "    * **Logistic Regression**\n",
    "* Best hyperparameters used:\n",
    "    * **Method: Ridge regression**\n",
    "    * **Regularization parameter: 1.0**\n",
    "* Size of the saved model:\n",
    "    * **Disk usage: 52k**\n",
    "* Performance metrics:\n",
    "    * **Accuracy: 0.713**\n",
    "    * **Area under ROC curve (AUROC): 0.755**\n",
    "    * **F1 score: 0.183**\n",
    "    * **Confusion matrix:**  \n",
    "tn: 1473 $\\;\\;$ fn: 45  \n",
    "fp: 587 $\\;\\;\\;$ tp: 99"
   ]
  },
  {
   "cell_type": "markdown",
   "metadata": {},
   "source": [
    "## Configuration"
   ]
  },
  {
   "cell_type": "code",
   "execution_count": 1,
   "metadata": {},
   "outputs": [],
   "source": [
    "# set data directory\n",
    "data_dir = \"../data\"\n",
    "results_dir = \"../results\""
   ]
  },
  {
   "cell_type": "markdown",
   "metadata": {},
   "source": [
    "## Import libraries and set up Spark"
   ]
  },
  {
   "cell_type": "code",
   "execution_count": 2,
   "metadata": {},
   "outputs": [],
   "source": [
    "# import python libraries\n",
    "import os\n",
    "import pandas as pd\n",
    "import numpy as np\n",
    "from functools import reduce"
   ]
  },
  {
   "cell_type": "code",
   "execution_count": 3,
   "metadata": {},
   "outputs": [],
   "source": [
    "# set up pyspark\n",
    "from pyspark.sql import *\n",
    "from pyspark.sql import SparkSession\n",
    "from pyspark.sql.functions import *\n",
    "from pyspark.sql.types import IntegerType"
   ]
  },
  {
   "cell_type": "code",
   "execution_count": 4,
   "metadata": {},
   "outputs": [],
   "source": [
    "from pyspark.ml import Pipeline  \n",
    "from pyspark.ml.feature import *  \n",
    "from pyspark.ml.classification import LogisticRegression\n",
    "from pyspark.ml.evaluation import BinaryClassificationEvaluator"
   ]
  },
  {
   "cell_type": "code",
   "execution_count": 5,
   "metadata": {},
   "outputs": [],
   "source": [
    "spark = SparkSession.builder.getOrCreate()"
   ]
  },
  {
   "cell_type": "markdown",
   "metadata": {},
   "source": [
    "## Read in data"
   ]
  },
  {
   "cell_type": "code",
   "execution_count": 6,
   "metadata": {},
   "outputs": [],
   "source": [
    "NHAMCS = spark.read.parquet(data_dir + \"/NHAMCS_processed.2007-2017\")"
   ]
  },
  {
   "cell_type": "markdown",
   "metadata": {},
   "source": [
    "## Transform data"
   ]
  },
  {
   "cell_type": "code",
   "execution_count": 7,
   "metadata": {},
   "outputs": [],
   "source": [
    "# perform string indexing to prepare for OHE for residence variable\n",
    "rsi = StringIndexer(inputCol=\"RESIDNCE\", outputCol=\"RESINDEX\")\n",
    "simodel = rsi.fit(NHAMCS)\n",
    "NHAMCS = simodel.transform(NHAMCS)"
   ]
  },
  {
   "cell_type": "code",
   "execution_count": 8,
   "metadata": {},
   "outputs": [],
   "source": [
    "# perform OHE on residence variable\n",
    "rohe = OneHotEncoder(inputCol='RESINDEX', outputCol='RESONE')\n",
    "NHAMCS = rohe.transform(NHAMCS)"
   ]
  },
  {
   "cell_type": "code",
   "execution_count": 9,
   "metadata": {},
   "outputs": [],
   "source": [
    "# assemble vector\n",
    "va = VectorAssembler(inputCols=[\"AGEYEAR\",\"RESONE\",'SEXMALE','ARRTIMEMIN','YEAR','PULSE','TEMPF', \\\n",
    "                                'RESPR','BPSYS','BPDIAS','POPCT','PAINSCALE','ALZHD','ASTHMA','CAD','CANCER', \\\n",
    "                                'CEBVD','CHF','CKD','COPD','DEPRN','DIABTYP0','DIABTYP1','DIABTYP2','EDHIV', \\\n",
    "                                'ESRD','ETOHAB','HPE','HTN','HYPLIPID','OBESITY','OSA','OSTPRSIS','SUBSTAB', \\\n",
    "                                'NOCHRON','TOTCHRON','INJURY','INJURY72'], \n",
    "                         outputCol=\"features\")  \n",
    "    \n",
    "NHAMCS = va.setHandleInvalid(\"skip\").transform(NHAMCS)"
   ]
  },
  {
   "cell_type": "markdown",
   "metadata": {},
   "source": [
    "## Train and test model"
   ]
  },
  {
   "cell_type": "code",
   "execution_count": 10,
   "metadata": {},
   "outputs": [],
   "source": [
    "# split into training and testing set\n",
    "training, testing = NHAMCS.randomSplit([0.8, 0.2], 42)"
   ]
  },
  {
   "cell_type": "code",
   "execution_count": 11,
   "metadata": {},
   "outputs": [],
   "source": [
    "# handle class imbalance\n",
    "\n",
    "# calculate balance ratio\n",
    "balRatio = training.select(\"ADM_OUTCOME\").where('ADM_OUTCOME == 0').count() / training.count()\n",
    "\n",
    "# add weights\n",
    "training = training.withColumn(\"classWeights\", when(training.ADM_OUTCOME == 1,balRatio).otherwise(1-balRatio))"
   ]
  },
  {
   "cell_type": "code",
   "execution_count": 12,
   "metadata": {},
   "outputs": [],
   "source": [
    "# function for logistic regression\n",
    "def lr_nhamcs (training_set, testing_set, reg_param=0, method=\"Standard\"):\n",
    "    if method==\"Standard\":\n",
    "        lr = LogisticRegression(featuresCol=\"features\", labelCol=\"ADM_OUTCOME\", weightCol=\"classWeights\", \\\n",
    "                                  maxIter=10, regParam=0, elasticNetParam=0)   \n",
    "    elif method==\"Ridge\":\n",
    "        lr = LogisticRegression(featuresCol=\"features\", labelCol=\"ADM_OUTCOME\", weightCol=\"classWeights\", \\\n",
    "                                  maxIter=10, regParam=reg_param, elasticNetParam=0)   \n",
    "    elif method==\"Lasso\":\n",
    "        lr = LogisticRegression(featuresCol=\"features\", labelCol=\"ADM_OUTCOME\", weightCol=\"classWeights\", \\\n",
    "                                  maxIter=10, regParam=reg_param, elasticNetParam=1)   \n",
    "        \n",
    "    # Fit the model\n",
    "    admModel = lr.fit(training_set)\n",
    "\n",
    "    # predict on testing set \n",
    "    predict_test=admModel.transform(testing_set)\n",
    "    \n",
    "    # make evaluator \n",
    "    evaluator=BinaryClassificationEvaluator(rawPredictionCol=\"rawPrediction\", labelCol=\"ADM_OUTCOME\")\n",
    "    \n",
    "    return evaluator.evaluate(predict_test)"
   ]
  },
  {
   "cell_type": "markdown",
   "metadata": {},
   "source": [
    "## Determine best hyperparameters"
   ]
  },
  {
   "cell_type": "code",
   "execution_count": 13,
   "metadata": {},
   "outputs": [
    {
     "name": "stdout",
     "output_type": "stream",
     "text": [
      "ROC-AUC for standard LR is:  0.7540790183387306\n"
     ]
    }
   ],
   "source": [
    "# test standard LR model\n",
    "print(\"ROC-AUC for standard LR is: \", lr_nhamcs(training,testing))"
   ]
  },
  {
   "cell_type": "code",
   "execution_count": 14,
   "metadata": {},
   "outputs": [
    {
     "name": "stdout",
     "output_type": "stream",
     "text": [
      "ROC-AUC for Ridge LR with reg_param= 0.0  is:  0.7540790183387306\n",
      "ROC-AUC for Ridge LR with reg_param= 0.1  is:  0.7540419363538331\n",
      "ROC-AUC for Ridge LR with reg_param= 0.2  is:  0.7540756472491944\n",
      "ROC-AUC for Ridge LR with reg_param= 0.3  is:  0.7542239751887837\n",
      "ROC-AUC for Ridge LR with reg_param= 0.4  is:  0.754362189859765\n",
      "ROC-AUC for Ridge LR with reg_param= 0.5  is:  0.7542273462783199\n",
      "ROC-AUC for Ridge LR with reg_param= 0.6  is:  0.7541666666666701\n",
      "ROC-AUC for Ridge LR with reg_param= 0.7  is:  0.7541026159654836\n",
      "ROC-AUC for Ridge LR with reg_param= 0.8  is:  0.7540756472491945\n",
      "ROC-AUC for Ridge LR with reg_param= 0.9  is:  0.7544869201726022\n",
      "ROC-AUC for Ridge LR with reg_param= 1.0  is:  0.7550094390507027\n"
     ]
    }
   ],
   "source": [
    "# test Ridge LR model for different values of the regularizatoin parameter\n",
    "for i in np.arange(0.0, 1.1, 0.1):\n",
    "    i = np.round(i,1)\n",
    "    print(\"ROC-AUC for Ridge LR with reg_param=\", i, \\\n",
    "          \" is: \", lr_nhamcs(training,testing, i,\"Ridge\"))"
   ]
  },
  {
   "cell_type": "code",
   "execution_count": 15,
   "metadata": {},
   "outputs": [
    {
     "name": "stdout",
     "output_type": "stream",
     "text": [
      "ROC-AUC for Lasso LR with reg_param= 0.0  is:  0.7540790183387306\n",
      "ROC-AUC for Lasso LR with reg_param= 0.1  is:  0.7391906014023741\n",
      "ROC-AUC for Lasso LR with reg_param= 0.2  is:  0.5\n",
      "ROC-AUC for Lasso LR with reg_param= 0.3  is:  0.5\n",
      "ROC-AUC for Lasso LR with reg_param= 0.4  is:  0.5\n",
      "ROC-AUC for Lasso LR with reg_param= 0.5  is:  0.5\n",
      "ROC-AUC for Lasso LR with reg_param= 0.6  is:  0.5\n",
      "ROC-AUC for Lasso LR with reg_param= 0.7  is:  0.5\n",
      "ROC-AUC for Lasso LR with reg_param= 0.8  is:  0.5\n",
      "ROC-AUC for Lasso LR with reg_param= 0.9  is:  0.5\n",
      "ROC-AUC for Lasso LR with reg_param= 1.0  is:  0.5\n"
     ]
    }
   ],
   "source": [
    "# test Lasso LR model for different values of the regularizatoin parameter\n",
    "for i in np.arange(0.0, 1.1, 0.1):\n",
    "    i = np.round(i,1)\n",
    "    print(\"ROC-AUC for Lasso LR with reg_param=\", i, \\\n",
    "          \" is: \", lr_nhamcs(training,testing, i,\"Lasso\"))"
   ]
  },
  {
   "cell_type": "markdown",
   "metadata": {},
   "source": [
    "## Size of saved model"
   ]
  },
  {
   "cell_type": "code",
   "execution_count": 16,
   "metadata": {},
   "outputs": [],
   "source": [
    "# create model with best hyperparameters (Ridge, regParam=1.0)\n",
    "lr = LogisticRegression(featuresCol=\"features\", labelCol=\"ADM_OUTCOME\", weightCol=\"classWeights\", \\\n",
    "                        maxIter=10, regParam=1.0, elasticNetParam=0) \n",
    "\n",
    "admModel = lr.fit(training)"
   ]
  },
  {
   "cell_type": "code",
   "execution_count": 17,
   "metadata": {},
   "outputs": [],
   "source": [
    "# save model\n",
    "admModel.write().overwrite().save(\"../models/001-log_regress-no_RFV\")"
   ]
  },
  {
   "cell_type": "code",
   "execution_count": 18,
   "metadata": {},
   "outputs": [
    {
     "name": "stdout",
     "output_type": "stream",
     "text": [
      "28K\t../models/001-log_regress-no_RFV/data\n",
      "20K\t../models/001-log_regress-no_RFV/metadata\n",
      "52K\t../models/001-log_regress-no_RFV\n"
     ]
    }
   ],
   "source": [
    "# get size on disk\n",
    "!du -h ../models/001-log_regress-no_RFV"
   ]
  },
  {
   "cell_type": "markdown",
   "metadata": {},
   "source": [
    "## Get evaluation metrics"
   ]
  },
  {
   "cell_type": "code",
   "execution_count": 19,
   "metadata": {},
   "outputs": [],
   "source": [
    "# predict on testing set \n",
    "predict_test=admModel.transform(testing)"
   ]
  },
  {
   "cell_type": "code",
   "execution_count": 20,
   "metadata": {},
   "outputs": [
    {
     "name": "stdout",
     "output_type": "stream",
     "text": [
      "ROC-AUC: 0.7550094390507027\n"
     ]
    }
   ],
   "source": [
    "# calculate AUC \n",
    "evaluator=BinaryClassificationEvaluator(rawPredictionCol=\"rawPrediction\", labelCol=\"ADM_OUTCOME\")\n",
    "print(\"ROC-AUC:\", evaluator.evaluate(predict_test))"
   ]
  },
  {
   "cell_type": "code",
   "execution_count": 21,
   "metadata": {},
   "outputs": [
    {
     "name": "stdout",
     "output_type": "stream",
     "text": [
      "F1 score: 0.18282251646509748\n"
     ]
    }
   ],
   "source": [
    "# calculate accuracy\n",
    "print(\"F1 score:\",evaluator.setMetricName(\"areaUnderPR\").evaluate(predict_test))"
   ]
  },
  {
   "cell_type": "code",
   "execution_count": 22,
   "metadata": {},
   "outputs": [
    {
     "name": "stdout",
     "output_type": "stream",
     "text": [
      "Accuracy: 0.7132486388384754\n"
     ]
    }
   ],
   "source": [
    "# calculate accuracy\n",
    "correct = predict_test.where('prediction == ADM_OUTCOME').count()\n",
    "total = predict_test.count()\n",
    "\n",
    "print(\"Accuracy:\", correct/total)"
   ]
  },
  {
   "cell_type": "code",
   "execution_count": 24,
   "metadata": {},
   "outputs": [
    {
     "name": "stdout",
     "output_type": "stream",
     "text": [
      "\n",
      "Confusion Matrix:\n",
      "tn: 1473  fn: 45\n",
      "fp: 587   tp: 99\n"
     ]
    }
   ],
   "source": [
    "# compute confusion matrix\n",
    "tp = predict_test.where('prediction == 1 and ADM_OUTCOME==1').count() \n",
    "fp = predict_test.where('prediction == 1 and ADM_OUTCOME==0').count() \n",
    "tn = predict_test.where('prediction == 0 and ADM_OUTCOME==0').count() \n",
    "fn = predict_test.where('prediction == 0 and ADM_OUTCOME==1').count() \n",
    "\n",
    "print(\"\\nConfusion Matrix:\")\n",
    "print('tn:',tn,' fn:',fn)\n",
    "print('fp:',fp, '  tp:',tp,)  "
   ]
  },
  {
   "cell_type": "code",
   "execution_count": 25,
   "metadata": {},
   "outputs": [
    {
     "name": "stdout",
     "output_type": "stream",
     "text": [
      "[NbConvertApp] Converting notebook /sfs/qumulo/qhome/trh6u/ds5559/DS5559-Project/reports/DS5559-Final_proj-NHAMCS-Report_2.ipynb to pdf\n",
      "[NbConvertApp] Writing 47691 bytes to ./notebook.tex\n",
      "[NbConvertApp] Building PDF\n",
      "[NbConvertApp] Running xelatex 3 times: ['xelatex', './notebook.tex', '-quiet']\n",
      "[NbConvertApp] Running bibtex 1 time: ['bibtex', './notebook']\n",
      "[NbConvertApp] WARNING | bibtex had problems, most likely because there were no citations\n",
      "[NbConvertApp] PDF successfully created\n",
      "[NbConvertApp] Writing 60515 bytes to /sfs/qumulo/qhome/trh6u/ds5559/DS5559-Project/reports/DS5559-Final_proj-NHAMCS-Report_2.pdf\n"
     ]
    }
   ],
   "source": [
    "# convert to PDF\n",
    "!jupyter nbconvert --to pdf `pwd`/DS5559-Final_proj-NHAMCS-Report_2.ipynb"
   ]
  },
  {
   "cell_type": "code",
   "execution_count": null,
   "metadata": {},
   "outputs": [],
   "source": []
  }
 ],
 "metadata": {
  "kernelspec": {
   "display_name": "DS 5559",
   "language": "python",
   "name": "ds5559"
  },
  "language_info": {
   "codemirror_mode": {
    "name": "ipython",
    "version": 3
   },
   "file_extension": ".py",
   "mimetype": "text/x-python",
   "name": "python",
   "nbconvert_exporter": "python",
   "pygments_lexer": "ipython3",
   "version": "3.7.6"
  }
 },
 "nbformat": 4,
 "nbformat_minor": 4
}
