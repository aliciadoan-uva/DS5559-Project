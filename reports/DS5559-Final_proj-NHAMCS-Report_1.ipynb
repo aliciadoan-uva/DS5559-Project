{
 "cells": [
  {
   "cell_type": "markdown",
   "metadata": {},
   "source": [
    "# Final Project: Admission Prediction from NHAMCS\n",
    "## Progress report: Summary of dataset\n",
    "### DS5559: Big Data Analysis\n",
    "### Thomas Hartka, Alicia Doan, Michael Langmayr\n",
    "Created: 6/21/20  "
   ]
  },
  {
   "cell_type": "markdown",
   "metadata": {},
   "source": [
    "## Data Source\n",
    "\n",
    "Our data is from the National Hospital Ambulatory Medical Care Survey (NHAMCS).  This is a stratified sample of data gathered from Emergency Departments (EDs) from around the United States collected by the CDC.  Data from the years 2007-2017 are publically available at: \n",
    "\n",
    "https://www.cdc.gov/nchs/ahcd/datasets_documentation_related.htm\n",
    "\n",
    "The data is provided in tabular format.  Each row represents a patient encounter and each column is a variable associated with the encounter.  We have previously converted the STATA files (orginal format) into CSVs.  We then used Pyspark to combine the 11 years of data into a large table, then stored the data in a parquet data structure.    "
   ]
  },
  {
   "cell_type": "code",
   "execution_count": 1,
   "metadata": {},
   "outputs": [],
   "source": [
    "# set directories\n",
    "data_dir = \"../data\"\n",
    "results_dir = \"../results\""
   ]
  },
  {
   "cell_type": "code",
   "execution_count": 2,
   "metadata": {},
   "outputs": [],
   "source": [
    "# import python libraries\n",
    "import pandas as pd\n",
    "import numpy as np\n",
    "\n",
    "# set up pyspark\n",
    "from pyspark.sql import *\n",
    "from pyspark.sql import SparkSession\n",
    "from pyspark.sql.functions import *\n",
    "from pyspark.sql.types import *\n",
    "\n",
    "spark = SparkSession.builder.getOrCreate()"
   ]
  },
  {
   "cell_type": "code",
   "execution_count": 3,
   "metadata": {},
   "outputs": [],
   "source": [
    "# load parquet data\n",
    "NHAMCS = spark.read.parquet(data_dir + \"/NHAMCS.2007-2017\")"
   ]
  },
  {
   "cell_type": "code",
   "execution_count": 4,
   "metadata": {},
   "outputs": [
    {
     "name": "stdout",
     "output_type": "stream",
     "text": [
      "+------+-----+--------+---+-------+--------+---+-----------------+------+--------------------+\n",
      "|VMONTH|VYEAR|   VDAYR|AGE|ARRTIME|WAITTIME|LOV|         RESIDNCE|   SEX|               ETHUN|\n",
      "+------+-----+--------+---+-------+--------+---+-----------------+------+--------------------+\n",
      "|  July| 2009|Saturday| 36|   2125|       5|296|Private residence|Female|Not Hispanic or L...|\n",
      "|  July| 2009|  Friday| 40|   1904|       5| 86|Private residence|Female|Not Hispanic or L...|\n",
      "|  July| 2009|  Friday| 76|   1034|       0| 86|Private residence|  Male|Not Hispanic or L...|\n",
      "|  July| 2009|Thursday| 27|     25|      63|190|Private residence|Female|Not Hispanic or L...|\n",
      "|  July| 2009|Thursday| 71|   1940|      40|230|Private residence|Female|Not Hispanic or L...|\n",
      "+------+-----+--------+---+-------+--------+---+-----------------+------+--------------------+\n",
      "only showing top 5 rows\n",
      "\n"
     ]
    }
   ],
   "source": [
    "# example of data\n",
    "NHAMCS.select(NHAMCS.columns[:10]).show(5)"
   ]
  },
  {
   "cell_type": "markdown",
   "metadata": {},
   "source": [
    "## Number of Records"
   ]
  },
  {
   "cell_type": "code",
   "execution_count": 5,
   "metadata": {},
   "outputs": [
    {
     "data": {
      "text/plain": [
       "305897"
      ]
     },
     "execution_count": 5,
     "metadata": {},
     "output_type": "execute_result"
    }
   ],
   "source": [
    "# count number of records\n",
    "NHAMCS.count()"
   ]
  },
  {
   "cell_type": "markdown",
   "metadata": {},
   "source": [
    "There are 305,897 records in the 11 years of data we obtained.  \n",
    "  \n",
    "We made a table examine which variables were available for each year.  In the following table a '1' indicates there was at least one non-null value for the variable; a '0' indicates all values were null (meaning the variable was not collected that year).  "
   ]
  },
  {
   "cell_type": "code",
   "execution_count": 6,
   "metadata": {},
   "outputs": [
    {
     "data": {
      "text/html": [
       "<div>\n",
       "<style scoped>\n",
       "    .dataframe tbody tr th:only-of-type {\n",
       "        vertical-align: middle;\n",
       "    }\n",
       "\n",
       "    .dataframe tbody tr th {\n",
       "        vertical-align: top;\n",
       "    }\n",
       "\n",
       "    .dataframe thead th {\n",
       "        text-align: right;\n",
       "    }\n",
       "</style>\n",
       "<table border=\"1\" class=\"dataframe\">\n",
       "  <thead>\n",
       "    <tr style=\"text-align: right;\">\n",
       "      <th>YEAR</th>\n",
       "      <th>2007</th>\n",
       "      <th>2008</th>\n",
       "      <th>2009</th>\n",
       "      <th>2010</th>\n",
       "      <th>2011</th>\n",
       "      <th>2012</th>\n",
       "      <th>2013</th>\n",
       "      <th>2014</th>\n",
       "      <th>2015</th>\n",
       "      <th>2016</th>\n",
       "      <th>2017</th>\n",
       "    </tr>\n",
       "  </thead>\n",
       "  <tbody>\n",
       "    <tr>\n",
       "      <th>CHF</th>\n",
       "      <td>0</td>\n",
       "      <td>0</td>\n",
       "      <td>1</td>\n",
       "      <td>1</td>\n",
       "      <td>1</td>\n",
       "      <td>1</td>\n",
       "      <td>1</td>\n",
       "      <td>1</td>\n",
       "      <td>1</td>\n",
       "      <td>1</td>\n",
       "      <td>1</td>\n",
       "    </tr>\n",
       "    <tr>\n",
       "      <th>CKD</th>\n",
       "      <td>0</td>\n",
       "      <td>0</td>\n",
       "      <td>0</td>\n",
       "      <td>0</td>\n",
       "      <td>0</td>\n",
       "      <td>0</td>\n",
       "      <td>0</td>\n",
       "      <td>1</td>\n",
       "      <td>1</td>\n",
       "      <td>1</td>\n",
       "      <td>1</td>\n",
       "    </tr>\n",
       "    <tr>\n",
       "      <th>CAD</th>\n",
       "      <td>0</td>\n",
       "      <td>0</td>\n",
       "      <td>0</td>\n",
       "      <td>0</td>\n",
       "      <td>0</td>\n",
       "      <td>0</td>\n",
       "      <td>0</td>\n",
       "      <td>1</td>\n",
       "      <td>1</td>\n",
       "      <td>1</td>\n",
       "      <td>1</td>\n",
       "    </tr>\n",
       "    <tr>\n",
       "      <th>COPD</th>\n",
       "      <td>0</td>\n",
       "      <td>0</td>\n",
       "      <td>0</td>\n",
       "      <td>0</td>\n",
       "      <td>0</td>\n",
       "      <td>1</td>\n",
       "      <td>1</td>\n",
       "      <td>1</td>\n",
       "      <td>1</td>\n",
       "      <td>1</td>\n",
       "      <td>1</td>\n",
       "    </tr>\n",
       "  </tbody>\n",
       "</table>\n",
       "</div>"
      ],
      "text/plain": [
       "YEAR  2007  2008  2009  2010  2011  2012  2013  2014  2015  2016  2017\n",
       "CHF      0     0     1     1     1     1     1     1     1     1     1\n",
       "CKD      0     0     0     0     0     0     0     1     1     1     1\n",
       "CAD      0     0     0     0     0     0     0     1     1     1     1\n",
       "COPD     0     0     0     0     0     1     1     1     1     1     1"
      ]
     },
     "execution_count": 6,
     "metadata": {},
     "output_type": "execute_result"
    }
   ],
   "source": [
    "# load variable data\n",
    "NHAMCS_vars = pd.read_csv(results_dir + \"/NHAMCS_vars_by_year.csv\")\n",
    "\n",
    "# display table of variables by year\n",
    "NHAMCS_vars[['YEAR','CHF','CKD','CAD','COPD']].set_index('YEAR').transpose()"
   ]
  },
  {
   "cell_type": "markdown",
   "metadata": {},
   "source": [
    "This shows that several of the potentially valuable predictors (CKD-Chronic Kideny Disease, CAD-Coronary Artery Disease, etc) were not collected until 2014.  We therefore decided to limit our analysis to 2014-2017."
   ]
  },
  {
   "cell_type": "code",
   "execution_count": 7,
   "metadata": {},
   "outputs": [],
   "source": [
    "# convert year to integer from string\n",
    "NHAMCS = NHAMCS.withColumn(\"YEAR\", NHAMCS[\"YEAR\"].cast(IntegerType()))\n",
    "\n",
    "# filter for years 2014-2017\n",
    "NHAMCS = NHAMCS.filter(NHAMCS['YEAR']>=2014)"
   ]
  },
  {
   "cell_type": "code",
   "execution_count": 8,
   "metadata": {},
   "outputs": [
    {
     "data": {
      "text/plain": [
       "81081"
      ]
     },
     "execution_count": 8,
     "metadata": {},
     "output_type": "execute_result"
    }
   ],
   "source": [
    "# count records 2014-2017\n",
    "NHAMCS.count()"
   ]
  },
  {
   "cell_type": "markdown",
   "metadata": {},
   "source": [
    "We are therefore left with 81,081 records for analysis for the years 2014-2017.  "
   ]
  },
  {
   "cell_type": "markdown",
   "metadata": {},
   "source": [
    "## Outcome\n",
    "\n",
    "Our outcome of interest is hospital admission.  We are would like to predict which patients will require admission to the hospital after ED evaluation and which patients can be discharged.  Being able to predict admission at that the time of patient presentation to the ED would be useful in terms of mobilizing resources.  If a patient has a high likelihood of admission, then a ward bed could be made ready and the admitting physicians could be informed.  \n",
    "\n",
    "NHAMCS records disposition data in several variables.  If a patient is admitted to the local hospital or transferred to another hospital (psychiatric or other), they will be considered positive for admission.\n",
    "\n",
    "ADM_OUTCOME = (ADMITHOSP = \"Yes) OR (TRANPSYC = \"Yes\") OR (TRANOTH = \"Yes\") OR (OBSHOS = \"Yes\")\n",
    " "
   ]
  },
  {
   "cell_type": "code",
   "execution_count": 9,
   "metadata": {},
   "outputs": [],
   "source": [
    "# create outcome variable\n",
    "NHAMCS = NHAMCS.withColumn(\"ADM_OUTCOME\", when((col(\"ADMITHOS\")==\"Yes\") | \\\n",
    "                                                (col(\"TRANPSYC\")==\"Yes\") | \\\n",
    "                                                (col(\"TRANOTH\")==\"Yes\") | \\\n",
    "                                                (col(\"OBSHOS\")==\"Yes\"), 1).otherwise(0))"
   ]
  },
  {
   "cell_type": "code",
   "execution_count": 10,
   "metadata": {},
   "outputs": [
    {
     "data": {
      "text/plain": [
       "9308"
      ]
     },
     "execution_count": 10,
     "metadata": {},
     "output_type": "execute_result"
    }
   ],
   "source": [
    "# stats on outcome\n",
    "NHAMCS.filter(NHAMCS['ADM_OUTCOME']==1).count()"
   ]
  },
  {
   "cell_type": "code",
   "execution_count": 11,
   "metadata": {},
   "outputs": [
    {
     "data": {
      "text/plain": [
       "71773"
      ]
     },
     "execution_count": 11,
     "metadata": {},
     "output_type": "execute_result"
    }
   ],
   "source": [
    "NHAMCS.filter(NHAMCS['ADM_OUTCOME']==0).count()"
   ]
  },
  {
   "cell_type": "code",
   "execution_count": 12,
   "metadata": {},
   "outputs": [
    {
     "data": {
      "text/plain": [
       "0.11479878146544813"
      ]
     },
     "execution_count": 12,
     "metadata": {},
     "output_type": "execute_result"
    }
   ],
   "source": [
    "## Admission rate overall\n",
    "NHAMCS.filter(NHAMCS['ADM_OUTCOME']==1).count()/(NHAMCS.filter(NHAMCS['ADM_OUTCOME']==0).count() +NHAMCS.filter(NHAMCS['ADM_OUTCOME']==1).count())"
   ]
  },
  {
   "cell_type": "markdown",
   "metadata": {},
   "source": [
    "<***---Describe outcome stats----------***>\n"
   ]
  },
  {
   "cell_type": "markdown",
   "metadata": {},
   "source": [
    "## Predictors"
   ]
  },
  {
   "cell_type": "code",
   "execution_count": 13,
   "metadata": {},
   "outputs": [
    {
     "data": {
      "text/plain": [
       "1220"
      ]
     },
     "execution_count": 13,
     "metadata": {},
     "output_type": "execute_result"
    }
   ],
   "source": [
    "# count number of columns\n",
    "len(NHAMCS.columns)"
   ]
  },
  {
   "cell_type": "markdown",
   "metadata": {},
   "source": [
    "From the years 2007-2017 there were 1,219 variables collected.  The exact variables collected varied by year.  In no year were all 1,219 data points collected for each encounter.  This data includes patient demographics, reason for visit, which tests were ordered, medications prescribed, and ED/hospital information. \n",
    "  \n",
    "We want only use data that is available when the patient presents, which includes demographics, comorbidites, vital signs, and reason for visit.  We will not use tests orders, medications, or discharge diagnosis since these are not known on arrival. \n",
    "  \n",
    "The following are our most likely predictors by category:\n",
    "\n",
    "__Demographics__\n",
    "* Age (AGE, AGER, ADEDAYS)\n",
    "* Sex (SEX)\n",
    "* Residence (RESIDNCE)\n",
    "* Arrival time (ARRTIME)\n",
    "* Year of visit (YEAR)\n",
    "\n",
    "__Vital signs__\n",
    "* Heart rate (PULSE)\n",
    "* Temperature (TEMPF)\n",
    "* Respiratory rate (RESPR)\n",
    "* Blood pressure (BPSYS, BPDIAS)\n",
    "* Oxygen saturation (POPCT)\n",
    "* Pain scale (PAINSCALE)\n",
    "\n",
    "__Comorbidities (known health problems__\n",
    "* Alzheimer's disease (ALZHD)\n",
    "* Asthma (ASTHMA)\n",
    "* Coronary artery disease (CAD)\n",
    "* Cancer (CANCER)\n",
    "* Cerebrovascular disease (CEBVD)\n",
    "* Congestive heart failure (CHF)\n",
    "* Chronic kidney disease (CKD)\n",
    "* Chronic obstructive pulmonary disease (COPD)\n",
    "* Depression (DEPRN)\n",
    "* Diabetes-type nunknown (DIABTYP0)\n",
    "* Diabetes-type I (DIABTYP1)\n",
    "* Diabetes-type II (DIABTYP2)\n",
    "* HIV (EDHIV)\n",
    "* End-stage renal disease/dialysis (ESRD)\n",
    "* Alcohol abuse (ETOHAB)\n",
    "* History of pulmonary embolism (HPE)\n",
    "* Hypertension (HTN)\n",
    "* Hyperlipidemia (HYPLIPID)\n",
    "* Obesity (OBESITY)\n",
    "* Obstructive sleep apnea (OSA)\n",
    "* Osteoporosis (OSTPRSIS)\n",
    "* Substance abuse (SUBSTAB)\n",
    "* No chronic diseases (NOCHRON)\n",
    "* Total number of chronic diseases (TOTCHRON)\n",
    "\n",
    "\n",
    "__Reason for visit__\n",
    "* Reason for visit-free text #1 (RFV1)\n",
    "* Reason for visit-free text #2 (RFV2)\n",
    "* Reason for visit-free text #3 (RFV3)\n",
    "* Reason for visit-free text #4 (RFV4)\n",
    "* Reason for visit-free text #5 (RFV5)\n",
    "* Is this visit related to an injury/trauma, overdose/poisoning, or adverse effect of medical/surgical treatment? (INJURY)\n",
    "* Did the injury/trauma, overdose/poisoning, or adverse effect of medical/surgical treatment occur within 72 hours prior to the date and time of this visit? (INJURY72)\n"
   ]
  },
  {
   "cell_type": "code",
   "execution_count": 14,
   "metadata": {},
   "outputs": [
    {
     "name": "stdout",
     "output_type": "stream",
     "text": [
      "Percentage Female patients: 0.5476005476005475, Male patients: 0.4523994523994524\n"
     ]
    }
   ],
   "source": [
    "####################\n",
    "# ADD PREDICTOR STATS\n",
    "####################\n",
    "import pyspark.sql.functions as F\n",
    "\n",
    "# Gender of patient\n",
    "percentage_female = NHAMCS.filter(NHAMCS[\"SEX\"] == \"Female\").count() / NHAMCS.count()\n",
    "percentage_male = NHAMCS.filter(NHAMCS[\"SEX\"] == \"Male\").count() / NHAMCS.count()\n",
    "\n",
    "print(\"Percentage Female patients: {}, Male patients: {}\".format(percentage_female, percentage_male))"
   ]
  },
  {
   "cell_type": "code",
   "execution_count": 15,
   "metadata": {},
   "outputs": [
    {
     "name": "stdout",
     "output_type": "stream",
     "text": [
      "Average pulse of patient is Row(avg(PULSE)=91.27690455399434)\n",
      "Quantiles: .25: [76.0], .5: [88.0], .75: [102.0]\n",
      "Standard deviation: Row(stddev_samp(PULSE)=23.084029913532127)\n"
     ]
    }
   ],
   "source": [
    "# Patient's pulse during admission\n",
    "avg = NHAMCS.select(F.mean('PULSE')).collect()[0]\n",
    "stddev = NHAMCS.select(F.stddev('PULSE')).collect()[0]\n",
    "NHAMCS = NHAMCS.withColumn(\"PULSE\", NHAMCS[\"PULSE\"].cast(\"float\"))\n",
    "\n",
    "# Quantiles\n",
    "x25 = NHAMCS.approxQuantile('PULSE', [0.25], 0)\n",
    "x5 = NHAMCS.approxQuantile('PULSE', [0.5], 0)\n",
    "x75 = NHAMCS.approxQuantile('PULSE', [0.75], 0)\n",
    "\n",
    "print(\"Average pulse of patient is {}\".format(avg))\n",
    "print(\"Quantiles: .25: {}, .5: {}, .75: {}\".format(x25, x5, x75))\n",
    "print(\"Standard deviation: {}\".format(stddev))"
   ]
  },
  {
   "cell_type": "code",
   "execution_count": 16,
   "metadata": {},
   "outputs": [
    {
     "name": "stdout",
     "output_type": "stream",
     "text": [
      "Average BPSYS of patient is Row(avg(BPSYS)=133.45751479618772)\n",
      "Quantiles: .25: [117.0], .5: [131.0], .75: [146.0]\n",
      "Standard deviation: Row(stddev_samp(BPSYS)=23.771204333599794)\n"
     ]
    }
   ],
   "source": [
    "# BPSYS\n",
    "avg = NHAMCS.select(F.mean('BPSYS')).collect()[0]\n",
    "stddev = avg_age = NHAMCS.select(F.stddev('BPSYS')).collect()[0]\n",
    "NHAMCS = NHAMCS.withColumn(\"BPSYS\", NHAMCS[\"BPSYS\"].cast(\"float\"))\n",
    "\n",
    "# Quantiles\n",
    "x25 = NHAMCS.approxQuantile('BPSYS', [0.25], 0)\n",
    "x5 = NHAMCS.approxQuantile('BPSYS', [0.5], 0)\n",
    "x75 = NHAMCS.approxQuantile('BPSYS', [0.75], 0)\n",
    "\n",
    "print(\"Average BPSYS of patient is {}\".format(avg))\n",
    "print(\"Quantiles: .25: {}, .5: {}, .75: {}\".format(x25, x5, x75))\n",
    "print(\"Standard deviation: {}\".format(stddev))"
   ]
  },
  {
   "cell_type": "code",
   "execution_count": 17,
   "metadata": {},
   "outputs": [
    {
     "name": "stdout",
     "output_type": "stream",
     "text": [
      "Average temperature is Row(avg(TEMPF)=98.3023917487975)\n",
      "Quantiles: .25: [97.80000305175781], .5: [98.19999694824219], .75: [98.5999984741211]\n",
      "Standard deviation: Row(stddev_samp(TEMPF)=1.0299118245398284)\n"
     ]
    }
   ],
   "source": [
    "# TEMPF\n",
    "avg = NHAMCS.select(F.mean('TEMPF')).collect()[0]\n",
    "stddev = NHAMCS.select(F.stddev('TEMPF')).collect()[0]\n",
    "NHAMCS = NHAMCS.withColumn(\"TEMPF\", NHAMCS[\"TEMPF\"].cast(\"float\"))\n",
    "\n",
    "# Quantiles\n",
    "x25 = NHAMCS.approxQuantile('TEMPF', [0.25], 0)\n",
    "x5 = NHAMCS.approxQuantile('TEMPF', [0.5], 0)\n",
    "x75 = NHAMCS.approxQuantile('TEMPF', [0.75], 0)\n",
    "\n",
    "print(\"Average temperature is {}\".format(avg))\n",
    "print(\"Quantiles: .25: {}, .5: {}, .75: {}\".format(x25, x5, x75))\n",
    "print(\"Standard deviation: {}\".format(stddev))"
   ]
  },
  {
   "cell_type": "code",
   "execution_count": 18,
   "metadata": {},
   "outputs": [
    {
     "name": "stdout",
     "output_type": "stream",
     "text": [
      "Average POPCT is Row(avg(POPCT)=97.30844376826681)\n",
      "Quantiles: .25: [97.0], .5: [98.0], .75: [99.0]\n",
      "Standard deviation: Row(stddev_samp(POPCT)=5.940603337921231)\n"
     ]
    }
   ],
   "source": [
    "# POPCT\n",
    "avg = NHAMCS.select(F.mean('POPCT')).collect()[0]\n",
    "stddev = NHAMCS.select(F.stddev('POPCT')).collect()[0]\n",
    "NHAMCS = NHAMCS.withColumn(\"POPCT\", NHAMCS[\"POPCT\"].cast(\"float\"))\n",
    "\n",
    "# Quantiles\n",
    "x25 = NHAMCS.approxQuantile('POPCT', [0.25], 0)\n",
    "x5 = NHAMCS.approxQuantile('POPCT', [0.5], 0)\n",
    "x75 = NHAMCS.approxQuantile('POPCT', [0.75], 0)\n",
    "\n",
    "print(\"Average POPCT is {}\".format(avg))\n",
    "print(\"Quantiles: .25: {}, .5: {}, .75: {}\".format(x25, x5, x75))\n",
    "print(\"Standard deviation: {}\".format(stddev))"
   ]
  },
  {
   "cell_type": "code",
   "execution_count": 19,
   "metadata": {},
   "outputs": [
    {
     "name": "stdout",
     "output_type": "stream",
     "text": [
      "Average PAINSCALE is Row(avg(PAINSCALE)=4.840190870622131)\n",
      "Quantiles: .25: [0.0], .5: [5.0], .75: [8.0]\n",
      "Standard deviation: Row(stddev_samp(PAINSCALE)=3.685903934729506)\n"
     ]
    }
   ],
   "source": [
    "# pain scale\n",
    "painscales = NHAMCS.where(NHAMCS.PAINSCALE != 'Unknown')\n",
    "avg = painscales.select(F.mean('PAINSCALE')).collect()[0]\n",
    "stddev = painscales.select(F.stddev('PAINSCALE')).collect()[0]\n",
    "painscales = painscales.withColumn(\"PAINSCALE\", NHAMCS[\"PAINSCALE\"].cast(\"float\"))\n",
    "\n",
    "# Quantiles\n",
    "x25 = painscales.approxQuantile('PAINSCALE', [0.25], 0)\n",
    "x5 = painscales.approxQuantile('PAINSCALE', [0.5], 0)\n",
    "x75 = painscales.approxQuantile('PAINSCALE', [0.75], 0)\n",
    "\n",
    "print(\"Average PAINSCALE is {}\".format(avg))\n",
    "print(\"Quantiles: .25: {}, .5: {}, .75: {}\".format(x25, x5, x75))\n",
    "print(\"Standard deviation: {}\".format(stddev))"
   ]
  },
  {
   "cell_type": "code",
   "execution_count": 20,
   "metadata": {},
   "outputs": [
    {
     "name": "stdout",
     "output_type": "stream",
     "text": [
      "Percentage patients with asthma: 0.09881476548143214, without: 0.9011852345185678\n"
     ]
    }
   ],
   "source": [
    "# Patient has asthma\n",
    "percentage_yes = NHAMCS.filter(NHAMCS[\"ASTHMA\"] == \"Yes\").count() / NHAMCS.count()\n",
    "percentage_no = NHAMCS.filter(NHAMCS[\"ASTHMA\"] == \"No\").count() / NHAMCS.count()\n",
    "\n",
    "print(\"Percentage patients with asthma: {}, without: {}\".format(percentage_yes, percentage_no))"
   ]
  },
  {
   "cell_type": "code",
   "execution_count": 21,
   "metadata": {},
   "outputs": [
    {
     "name": "stdout",
     "output_type": "stream",
     "text": [
      "Percentage patients with CAD: 0.05855872522539189, without: 0.9414412747746082\n"
     ]
    }
   ],
   "source": [
    "# Patient has CAD\n",
    "percentage_yes = NHAMCS.filter(NHAMCS[\"CAD\"] == \"Yes\").count() / NHAMCS.count()\n",
    "percentage_no = NHAMCS.filter(NHAMCS[\"CAD\"] == \"No\").count() / NHAMCS.count()\n",
    "\n",
    "print(\"Percentage patients with CAD: {}, without: {}\".format(percentage_yes, percentage_no))"
   ]
  },
  {
   "cell_type": "code",
   "execution_count": 22,
   "metadata": {},
   "outputs": [
    {
     "name": "stdout",
     "output_type": "stream",
     "text": [
      "Percentage patients with CKD: 0.023384023384023383, without: 0.9766159766159767\n"
     ]
    }
   ],
   "source": [
    "# Patient has CKD\n",
    "percentage_yes = NHAMCS.filter(NHAMCS[\"CKD\"] == \"Yes\").count() / NHAMCS.count()\n",
    "percentage_no = NHAMCS.filter(NHAMCS[\"CKD\"] == \"No\").count() / NHAMCS.count()\n",
    "\n",
    "print(\"Percentage patients with CKD: {}, without: {}\".format(percentage_yes, percentage_no))"
   ]
  },
  {
   "cell_type": "markdown",
   "metadata": {},
   "source": [
    "<***---Describe predictor stats----------***>"
   ]
  },
  {
   "cell_type": "markdown",
   "metadata": {},
   "source": [
    "## Visualizations\n",
    "\n",
    "\n",
    "<***---Add at least 5 graphs----------***>\n",
    "\n",
    "Ideas:\n",
    "- Visits per year\n",
    "- Admission percentage vs age (AGER is categorical)\n",
    "- Number of patients with comorbidites (histogram of TOTCHRON)\n",
    "- Admission percentage vs total number of comorbidities (TOTCHRON)\n",
    "- Age vs total number of comorbidities\n",
    "- Admission percentage vs pain score"
   ]
  },
  {
   "cell_type": "code",
   "execution_count": 23,
   "metadata": {},
   "outputs": [],
   "source": [
    "%matplotlib inline\n",
    "import matplotlib.pyplot as plt\n",
    "plt.style.use('ggplot')"
   ]
  },
  {
   "cell_type": "code",
   "execution_count": 24,
   "metadata": {},
   "outputs": [
    {
     "data": {
      "image/png": "[encoded data removed]",
      "text/plain": [
       "<Figure size 432x288 with 1 Axes>"
      ]
     },
     "metadata": {},
     "output_type": "display_data"
    }
   ],
   "source": [
    "yearly_visits = NHAMCS.groupby('YEAR').count().toPandas().sort_values('YEAR')\n",
    "plt.bar(yearly_visits['YEAR'], yearly_visits['count'], color='green')\n",
    "plt.xlabel(\"Year\")\n",
    "plt.ylabel(\"Number of Visits\")\n",
    "plt.title(\"Yearly Visits\")\n",
    "plt.show()"
   ]
  },
  {
   "cell_type": "code",
   "execution_count": 25,
   "metadata": {},
   "outputs": [
    {
     "data": {
      "image/png": "[encoded data removed]",
      "text/plain": [
       "<Figure size 432x288 with 1 Axes>"
      ]
     },
     "metadata": {},
     "output_type": "display_data"
    }
   ],
   "source": [
    "age_admission = NHAMCS.groupby('AGER').pivot(\"ADM_OUTCOME\").count()\n",
    "age_admission = age_admission.withColumn('admiss_rate', age_admission['1']/(age_admission['1']+age_admission['0'])).toPandas().sort_values('admiss_rate', ascending = False)\n",
    "\n",
    "age_labels = age_admission['AGER'].values\n",
    "fig = age_admission[['admiss_rate']].plot(kind='bar', facecolor='lightblue')\n",
    "fig.set_xticklabels(age_labels)\n",
    "fig.set_title('Admission Rate by Age Group')\n",
    "fig.set_xlabel('Age Groups')\n",
    "fig.set_ylabel('Admission Rate')\n",
    "plt.show()"
   ]
  },
  {
   "cell_type": "code",
   "execution_count": 51,
   "metadata": {},
   "outputs": [
    {
     "data": {
      "text/html": [
       "<div>\n",
       "<style scoped>\n",
       "    .dataframe tbody tr th:only-of-type {\n",
       "        vertical-align: middle;\n",
       "    }\n",
       "\n",
       "    .dataframe tbody tr th {\n",
       "        vertical-align: top;\n",
       "    }\n",
       "\n",
       "    .dataframe thead th {\n",
       "        text-align: right;\n",
       "    }\n",
       "</style>\n",
       "<table border=\"1\" class=\"dataframe\">\n",
       "  <thead>\n",
       "    <tr style=\"text-align: right;\">\n",
       "      <th></th>\n",
       "      <th>TOTCHRON</th>\n",
       "      <th>0</th>\n",
       "      <th>1</th>\n",
       "      <th>admiss_rate</th>\n",
       "    </tr>\n",
       "  </thead>\n",
       "  <tbody>\n",
       "    <tr>\n",
       "      <th>12</th>\n",
       "      <td>12</td>\n",
       "      <td>1.0</td>\n",
       "      <td>3</td>\n",
       "      <td>0.750000</td>\n",
       "    </tr>\n",
       "    <tr>\n",
       "      <th>10</th>\n",
       "      <td>10</td>\n",
       "      <td>16.0</td>\n",
       "      <td>25</td>\n",
       "      <td>0.609756</td>\n",
       "    </tr>\n",
       "    <tr>\n",
       "      <th>3</th>\n",
       "      <td>8</td>\n",
       "      <td>84.0</td>\n",
       "      <td>94</td>\n",
       "      <td>0.528090</td>\n",
       "    </tr>\n",
       "    <tr>\n",
       "      <th>1</th>\n",
       "      <td>11</td>\n",
       "      <td>5.0</td>\n",
       "      <td>5</td>\n",
       "      <td>0.500000</td>\n",
       "    </tr>\n",
       "    <tr>\n",
       "      <th>6</th>\n",
       "      <td>6</td>\n",
       "      <td>462.0</td>\n",
       "      <td>381</td>\n",
       "      <td>0.451957</td>\n",
       "    </tr>\n",
       "    <tr>\n",
       "      <th>0</th>\n",
       "      <td>7</td>\n",
       "      <td>242.0</td>\n",
       "      <td>182</td>\n",
       "      <td>0.429245</td>\n",
       "    </tr>\n",
       "    <tr>\n",
       "      <th>8</th>\n",
       "      <td>9</td>\n",
       "      <td>55.0</td>\n",
       "      <td>40</td>\n",
       "      <td>0.421053</td>\n",
       "    </tr>\n",
       "    <tr>\n",
       "      <th>5</th>\n",
       "      <td>5</td>\n",
       "      <td>1102.0</td>\n",
       "      <td>638</td>\n",
       "      <td>0.366667</td>\n",
       "    </tr>\n",
       "    <tr>\n",
       "      <th>11</th>\n",
       "      <td>4</td>\n",
       "      <td>2150.0</td>\n",
       "      <td>975</td>\n",
       "      <td>0.312000</td>\n",
       "    </tr>\n",
       "    <tr>\n",
       "      <th>2</th>\n",
       "      <td>3</td>\n",
       "      <td>4226.0</td>\n",
       "      <td>1403</td>\n",
       "      <td>0.249245</td>\n",
       "    </tr>\n",
       "    <tr>\n",
       "      <th>14</th>\n",
       "      <td>2</td>\n",
       "      <td>7772.0</td>\n",
       "      <td>1686</td>\n",
       "      <td>0.178262</td>\n",
       "    </tr>\n",
       "    <tr>\n",
       "      <th>9</th>\n",
       "      <td>1</td>\n",
       "      <td>15064.0</td>\n",
       "      <td>1889</td>\n",
       "      <td>0.111426</td>\n",
       "    </tr>\n",
       "    <tr>\n",
       "      <th>4</th>\n",
       "      <td>0</td>\n",
       "      <td>39693.0</td>\n",
       "      <td>1911</td>\n",
       "      <td>0.045933</td>\n",
       "    </tr>\n",
       "    <tr>\n",
       "      <th>13</th>\n",
       "      <td>14</td>\n",
       "      <td>NaN</td>\n",
       "      <td>1</td>\n",
       "      <td>NaN</td>\n",
       "    </tr>\n",
       "  </tbody>\n",
       "</table>\n",
       "</div>"
      ],
      "text/plain": [
       "   TOTCHRON        0     1  admiss_rate\n",
       "12       12      1.0     3     0.750000\n",
       "10       10     16.0    25     0.609756\n",
       "3         8     84.0    94     0.528090\n",
       "1        11      5.0     5     0.500000\n",
       "6         6    462.0   381     0.451957\n",
       "0         7    242.0   182     0.429245\n",
       "8         9     55.0    40     0.421053\n",
       "5         5   1102.0   638     0.366667\n",
       "11        4   2150.0   975     0.312000\n",
       "2         3   4226.0  1403     0.249245\n",
       "14        2   7772.0  1686     0.178262\n",
       "9         1  15064.0  1889     0.111426\n",
       "4         0  39693.0  1911     0.045933\n",
       "13       14      NaN     1          NaN"
      ]
     },
     "execution_count": 51,
     "metadata": {},
     "output_type": "execute_result"
    }
   ],
   "source": [
    "age_comorbid"
   ]
  },
  {
   "cell_type": "code",
   "execution_count": 52,
   "metadata": {},
   "outputs": [
    {
     "data": {
      "image/png": "[encoded data removed]",
      "text/plain": [
       "<Figure size 432x288 with 1 Axes>"
      ]
     },
     "metadata": {},
     "output_type": "display_data"
    }
   ],
   "source": [
    "age_comorbid = NHAMCS.groupby('TOTCHRON').pivot(\"ADM_OUTCOME\").count()\n",
    "age_comorbid = age_comorbid.withColumn('admiss_rate', age_comorbid['1']/(age_comorbid['1']+age_comorbid['0'])).toPandas().sort_values('admiss_rate', ascending = False)\n",
    "age_comorbid = age_comorbid[~age_comorbid.TOTCHRON.str.contains(\"None\")]\n",
    "age_comorbid = age_comorbid[~age_comorbid.TOTCHRON.str.contains(\"14\")]\n",
    "\n",
    "#chron_labels = age_comorbid['TOTCHRON'].values\n",
    "chron_labels = range(12,-1,-1)\n",
    "fig = age_comorbid[['admiss_rate']].plot(kind='bar', facecolor='lightblue')\n",
    "fig.set_xticklabels(chron_labels)\n",
    "fig.set_title('Admission Rate by Number of Pre-existing Conditions')\n",
    "fig.set_xlabel('Number of Pre-existing Conditions')\n",
    "fig.set_ylabel('Admission Rate')\n",
    "plt.show()"
   ]
  },
  {
   "cell_type": "code",
   "execution_count": 26,
   "metadata": {},
   "outputs": [
    {
     "data": {
      "image/png": "[encoded data removed]",
      "text/plain": [
       "<Figure size 432x288 with 1 Axes>"
      ]
     },
     "metadata": {},
     "output_type": "display_data"
    }
   ],
   "source": [
    "comorbid_data = NHAMCS.filter(NHAMCS.YEAR >= 2014).select(\"TOTCHRON\").toPandas()\n",
    "comorbid_data['TOTCHRON'] = np.where(comorbid_data['TOTCHRON']== \"'None' box and all item fields are blank\" , '0', comorbid_data['TOTCHRON'])\n",
    "\n",
    "comorbid_data['TOTCHRON'] = comorbid_data['TOTCHRON'].astype(int)\n",
    "\n",
    "comorbid_data[['TOTCHRON']].plot(kind='hist', facecolor='darkblue')\n",
    "plt.xlabel(\"Total Number of Chronic Diseases\")\n",
    "plt.ylabel(\"Frequency\")\n",
    "plt.title(\"Histogram of Total Number of Chronic Diseases\")\n",
    "plt.show()"
   ]
  },
  {
   "cell_type": "code",
   "execution_count": 31,
   "metadata": {},
   "outputs": [
    {
     "data": {
      "image/png": "[encoded data removed]",
      "text/plain": [
       "<Figure size 432x288 with 1 Axes>"
      ]
     },
     "metadata": {},
     "output_type": "display_data"
    }
   ],
   "source": [
    "age_comorbid_data = NHAMCS.filter(NHAMCS.YEAR >= 2014).select(\"TOTCHRON\",'AGE').toPandas()\n",
    "age_comorbid_data['TOTCHRON'] = np.where(age_comorbid_data['TOTCHRON']== \"'None' box and all item fields are blank\" , '0', age_comorbid_data['TOTCHRON'])\n",
    "\n",
    "age_comorbid_data['TOTCHRON'] = age_comorbid_data['TOTCHRON'].astype(int)\n",
    "age_comorbid_data['AGE'] = np.where(age_comorbid_data['AGE']== 'Under one year' , '0', age_comorbid_data['AGE'])\n",
    "age_comorbid_data['AGE'] = np.where(age_comorbid_data['AGE']== '93 years and over' , '93', age_comorbid_data['AGE'])\n",
    "\n",
    "age_comorbid_data['AGE'] = age_comorbid_data['AGE'].astype(int)\n",
    "plt.scatter(age_comorbid_data.AGE, age_comorbid_data.TOTCHRON)\n",
    "plt.ylabel(\"Total Number of Chronic Diseases\")\n",
    "plt.xlabel(\"Age\")\n",
    "plt.title(\"Scatterplot of Age vs. Total Number of Chronic Diseases\")\n",
    "plt.show()\n"
   ]
  },
  {
   "cell_type": "code",
   "execution_count": 45,
   "metadata": {},
   "outputs": [
    {
     "data": {
      "image/png": "[encoded data removed]",
      "text/plain": [
       "<Figure size 432x288 with 1 Axes>"
      ]
     },
     "metadata": {},
     "output_type": "display_data"
    }
   ],
   "source": [
    "pain_admiss = NHAMCS.filter(NHAMCS.YEAR >= 2014).select(\"PAINSCALE\",'ADM_OUTCOME').toPandas()\n",
    "#Remove blanks and unknowns\n",
    "pain_admiss =pain_admiss[~pain_admiss['PAINSCALE'].isin(['Blank', 'Unknown'])]\n",
    "pain_admiss['PAINSCALE'] = pain_admiss['PAINSCALE'].astype(int)\n",
    "\n",
    "\n",
    "pain_admiss.boxplot(by='ADM_OUTCOME')\n",
    "plt.show()"
   ]
  },
  {
   "cell_type": "code",
   "execution_count": 64,
   "metadata": {},
   "outputs": [
    {
     "name": "stdout",
     "output_type": "stream",
     "text": [
      "[NbConvertApp] Converting notebook /sfs/qumulo/qhome/ad2ew/ds5559/final_project/code/010-Combine_data.ipynb to pdf\n",
      "[NbConvertApp] Writing 52055 bytes to ./notebook.tex\n",
      "[NbConvertApp] Building PDF\n",
      "[NbConvertApp] Running xelatex 3 times: ['xelatex', './notebook.tex', '-quiet']\n",
      "[NbConvertApp] Running bibtex 1 time: ['bibtex', './notebook']\n",
      "[NbConvertApp] WARNING | bibtex had problems, most likely because there were no citations\n",
      "[NbConvertApp] PDF successfully created\n",
      "[NbConvertApp] Writing 59137 bytes to /sfs/qumulo/qhome/ad2ew/ds5559/final_project/code/010-Combine_data.pdf\n",
      "[NbConvertApp] Converting notebook /sfs/qumulo/qhome/ad2ew/ds5559/final_project/code/100-Determine_data_by_year.ipynb to pdf\n",
      "[NbConvertApp] Writing 31762 bytes to ./notebook.tex\n",
      "[NbConvertApp] Building PDF\n",
      "[NbConvertApp] Running xelatex 3 times: ['xelatex', './notebook.tex', '-quiet']\n",
      "[NbConvertApp] Running bibtex 1 time: ['bibtex', './notebook']\n",
      "[NbConvertApp] WARNING | bibtex had problems, most likely because there were no citations\n",
      "[NbConvertApp] PDF successfully created\n",
      "[NbConvertApp] Writing 43413 bytes to /sfs/qumulo/qhome/ad2ew/ds5559/final_project/code/100-Determine_data_by_year.pdf\n",
      "[NbConvertApp] Converting notebook /sfs/qumulo/qhome/ad2ew/ds5559/final_project/code/DS5559-Final_proj-NHAMCS-Report_1.ipynb to pdf\n",
      "[NbConvertApp] Support files will be in DS5559-Final_proj-NHAMCS-Report_1_files/\n",
      "[NbConvertApp] Making directory ./DS5559-Final_proj-NHAMCS-Report_1_files\n",
      "[NbConvertApp] Making directory ./DS5559-Final_proj-NHAMCS-Report_1_files\n",
      "[NbConvertApp] Making directory ./DS5559-Final_proj-NHAMCS-Report_1_files\n",
      "[NbConvertApp] Making directory ./DS5559-Final_proj-NHAMCS-Report_1_files\n",
      "[NbConvertApp] Making directory ./DS5559-Final_proj-NHAMCS-Report_1_files\n",
      "[NbConvertApp] Writing 71106 bytes to ./notebook.tex\n",
      "[NbConvertApp] Building PDF\n",
      "[NbConvertApp] Running xelatex 3 times: ['xelatex', './notebook.tex', '-quiet']\n",
      "[NbConvertApp] Running bibtex 1 time: ['bibtex', './notebook']\n",
      "[NbConvertApp] WARNING | bibtex had problems, most likely because there were no citations\n",
      "[NbConvertApp] PDF successfully created\n",
      "[NbConvertApp] Writing 150543 bytes to /sfs/qumulo/qhome/ad2ew/ds5559/final_project/code/DS5559-Final_proj-NHAMCS-Report_1.pdf\n",
      "[NbConvertApp] Converting notebook /sfs/qumulo/qhome/ad2ew/ds5559/final_project/code/EDA_Visualizations.ipynb to pdf\n",
      "[NbConvertApp] Writing 61399 bytes to ./notebook.tex\n",
      "[NbConvertApp] Building PDF\n",
      "[NbConvertApp] Running xelatex 3 times: ['xelatex', './notebook.tex', '-quiet']\n",
      "[NbConvertApp] Running bibtex 1 time: ['bibtex', './notebook']\n",
      "[NbConvertApp] WARNING | bibtex had problems, most likely because there were no citations\n",
      "[NbConvertApp] PDF successfully created\n",
      "[NbConvertApp] Writing 48745 bytes to /sfs/qumulo/qhome/ad2ew/ds5559/final_project/code/EDA_Visualizations.pdf\n"
     ]
    }
   ],
   "source": [
    "!jupyter nbconvert --to pdf `pwd`/*.ipynb\n"
   ]
  }
 ],
 "metadata": {
  "kernelspec": {
   "display_name": "DS 5559",
   "language": "python",
   "name": "ds5559"
  },
  "language_info": {
   "codemirror_mode": {
    "name": "ipython",
    "version": 3
   },
   "file_extension": ".py",
   "mimetype": "text/x-python",
   "name": "python",
   "nbconvert_exporter": "python",
   "pygments_lexer": "ipython3",
   "version": "3.7.6"
  }
 },
 "nbformat": 4,
 "nbformat_minor": 4
}
